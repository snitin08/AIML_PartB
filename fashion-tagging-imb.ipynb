{
 "cells": [
  {
   "cell_type": "code",
   "execution_count": 1,
   "metadata": {
    "_cell_guid": "b1076dfc-b9ad-4769-8c92-a6c4dae69d19",
    "_uuid": "8f2839f25d086af736a60e9eeb907d3b93b6e0e5"
   },
   "outputs": [],
   "source": [
    "# This Python 3 environment comes with many helpful analytics libraries installed\n",
    "# It is defined by the kaggle/python Docker image: https://github.com/kaggle/docker-python\n",
    "# For example, here's several helpful packages to load\n",
    "\n",
    "import numpy as np # linear algebra\n",
    "import pandas as pd # data processing, CSV file I/O (e.g. pd.read_csv)\n",
    "\n",
    "# Input data files are available in the read-only \"../input/\" directory\n",
    "# For example, running this (by clicking run or pressing Shift+Enter) will list all files under the input directory\n",
    "\n",
    "import os\n",
    "# for dirname, _, filenames in os.walk('/kaggle/input'):\n",
    "#     for filename in filenames:\n",
    "#         print(os.path.join(dirname, filename))\n",
    "\n",
    "# You can write up to 20GB to the current directory (/kaggle/working/) that gets preserved as output when you create a version using \"Save & Run All\" \n",
    "# You can also write temporary files to /kaggle/temp/, but they won't be saved outside of the current session"
   ]
  },
  {
   "cell_type": "markdown",
   "metadata": {},
   "source": [
    "# Importing Libraries"
   ]
  },
  {
   "cell_type": "code",
   "execution_count": 2,
   "metadata": {},
   "outputs": [],
   "source": [
    "import cv2\n",
    "import pandas as pd\n",
    "import seaborn as sns\n",
    "import numpy as np\n",
    "import tensorflow as tf\n",
    "import matplotlib.pyplot as plt\n",
    "\n",
    "from sklearn.utils import class_weight\n",
    "from sklearn.preprocessing import LabelBinarizer\n",
    "from sklearn.utils.class_weight import compute_class_weight\n",
    "\n",
    "from tensorflow.keras.preprocessing.image import ImageDataGenerator\n",
    "from tensorflow.keras.layers import Conv2D, Dropout, Dense, MaxPooling2D\n",
    "from tensorflow.keras import Sequential\n",
    "\n",
    "import tensorflow as tf\n",
    "from tensorflow.keras.applications import ResNet50\n",
    "from tensorflow import keras\n",
    "from tensorflow.keras import Sequential\n",
    "from tensorflow.keras.layers import Dense, Conv2D, Dropout, Flatten, MaxPooling2D\n",
    "from tensorflow.keras.applications.resnet import preprocess_input\n",
    "import tqdm \n",
    "\n",
    "from tensorflow.keras.models import Model\n",
    "from tensorflow.keras.layers import (Input, Flatten)\n",
    "\n",
    "from tensorflow.keras.layers import (Dense, Lambda, Dropout, Activation)\n",
    "from tensorflow.keras.layers import BatchNormalization\n",
    "\n",
    "from tensorflow.keras.optimizers import Adam\n",
    "from tensorflow.keras.preprocessing.image import img_to_array\n",
    "from tensorflow.keras import datasets, layers, models\n",
    "\n",
    "from sklearn.preprocessing import LabelBinarizer\n",
    "from sklearn.model_selection import train_test_split\n",
    "\n",
    "%matplotlib inline"
   ]
  },
  {
   "cell_type": "markdown",
   "metadata": {},
   "source": [
    "# Functions"
   ]
  },
  {
   "cell_type": "code",
   "execution_count": null,
   "metadata": {},
   "outputs": [],
   "source": [
    "def load_image_data(df,path=\"../Dataset/archive/image_data.npy\"):\n",
    "    \"\"\"\n",
    "        Parameters:\n",
    "        1. df:\n",
    "            Pandas dataframe        \n",
    "        2. path: \n",
    "            The path to the image data npy file (numpy array file)\n",
    "            Default: ../Dataset/archive/image_data.npy\n",
    "        \n",
    "        ------------------------\n",
    "        Returns\n",
    "            1. image_data: \n",
    "                Images in numpy array format of shape (n_samples,img_height,img_width,3)\n",
    "            2. df\n",
    "                Pandas dataframe with the non_included_ids removed\n",
    "    \"\"\"\n",
    "    df_req = df.copy()\n",
    "    non_included_ids = [39403, 39410, 39425]\n",
    "    df_req = df_req[~df_req['id'].isin(non_included_ids)]\n",
    "    from numpy import load\n",
    "    image_data = load(\"../Dataset/archive/image_data.npy\")\n",
    "    return (image_data,df_req)\n",
    "    \n",
    "    \n",
    "from tqdm import tqdm\n",
    "import os\n",
    "def load_image(imagePath):\n",
    "    IMAGE_DIMS = (60,60,3)\n",
    "    image = cv2.imread(imagePath)\n",
    "    image = cv2.resize(image, (IMAGE_DIMS[1], IMAGE_DIMS[0]))\n",
    "    image = cv2.cvtColor(image, cv2.COLOR_BGR2RGB)\n",
    "    image = preprocess_input(image)\n",
    "    return image\n",
    "\n",
    "def create_image_data(df,img_folder_path=\"../Dataset/archive/images/\",should_save=False,save_path=None):\n",
    "    \"\"\"\n",
    "        Creates numpy array of images\n",
    "        \n",
    "        Parameters:\n",
    "            1. df\n",
    "                Pandas dataframe containing image names\n",
    "            2. img_folder_path\n",
    "                The path of the folder to images.\n",
    "                Default: '../Dataset/archive/images/'\n",
    "            3. should\n",
    "                Should the image array be saved as a file \n",
    "                Default: False\n",
    "                Options: [True,False]\n",
    "            4. save_path:\n",
    "                The folder path to save the image_data                              \n",
    "        \n",
    "        Returns\n",
    "            (non_included_ids,image_data)\n",
    "            1. non_included_ids: \n",
    "                The image ids which could not be included\n",
    "            2. image_data: \n",
    "                Images in numpy array format of shape (n_samples,img_height,img_width,3)        \n",
    "    \"\"\"\n",
    "    from numpy import save\n",
    "    \n",
    "    \n",
    "    \n",
    "    df_req = df.copy()\n",
    "    df_req['img_paths'] = df_req['id'].apply(lambda x:img_folder_path+str(x)+'.jpg')\n",
    "    image_ids = df_req['img_paths']\n",
    "    image_data = []\n",
    "    non_included_ids = []\n",
    "\n",
    "    for img_path,i in tqdm(zip(image_ids,df_req['id'])):\n",
    "\n",
    "        try:\n",
    "            image_data.append(load_image(img_path))\n",
    "        except:\n",
    "            non_included_ids.append(i)\n",
    "            continue\n",
    "\n",
    "    image_data = np.array(image_data, dtype=\"float\")\n",
    "    if should_save:\n",
    "        save(save_path+\"image_data.npy\",image_data)\n",
    "        print(\"Saved successfully to {}\".format(save_path+\"image_data.npy\"))\n",
    "    \n",
    "def make_branch(res_input, n_out, act_type, name):\n",
    "    \"\"\"\n",
    "        Parameters:\n",
    "            1. res_input: \n",
    "                The input layer to the model\n",
    "            2. n_out\n",
    "                The number of output layers\n",
    "            3. act_type\n",
    "                Activation type\n",
    "                Example: 'softmax','sigmoid','relu'\n",
    "            4. name\n",
    "                The name of the output layer\n",
    "                \n",
    "        Returns\n",
    "            The output layer\n",
    "    \"\"\"\n",
    "    z = Dense(512, activation=\"relu\")(res_input)\n",
    "    z = Dropout(0.3)(z)\n",
    "    z = Dense(256, activation='relu')(z)\n",
    "    z = Dense(128, activation='relu')(z)\n",
    "#     z = BatchNormalization()(z)\n",
    "#     z = Dropout(0.5)(z)\n",
    "    z = Dense(n_out)(z)\n",
    "    z = Activation(act_type, name=name+'_output')(z)\n",
    "    return z\n",
    "\n",
    "def get_split(df_req,image_data):\n",
    "    \"\"\"\n",
    "        Parameters:\n",
    "            1. df_req \n",
    "                Pandas dataframe\n",
    "            2. image_data\n",
    "                The numpy array of image_data\n",
    "        Returns:\n",
    "            Dictionary:\n",
    "                1. d[\"LB\"]: Label binarizers\n",
    "                2. d[\"Splits\"]: \n",
    "                    Tuple of the form \n",
    "                    (trainX, testX,\n",
    "                     trainMasterCategoryY, testMasterCategoryY,\n",
    "                     trainSubCategoryY, testSubCategoryY,\n",
    "                     trainArticleTypeY, testArticleTypeY,\n",
    "                     trainSeasonY, testSeasonY,\n",
    "                     trainUsageY, testUsageY,\n",
    "                     trainGenderY, testgenderY)\n",
    "\n",
    "    \"\"\"\n",
    "    masterCategoryLB = LabelBinarizer()\n",
    "    subCategoryLB = LabelBinarizer()\n",
    "    articleTypeLB = LabelBinarizer()\n",
    "    seasonLB = LabelBinarizer()\n",
    "    usageLB = LabelBinarizer()\n",
    "    genderLB = LabelBinarizer()\n",
    "\n",
    "    masterCategoryLabels = masterCategoryLB.fit_transform(np.array(df_req['masterCategory'].values))\n",
    "    subCategoryLabels = subCategoryLB.fit_transform(np.array(df_req['subCategory'].values))\n",
    "    articleTypeLabels = articleTypeLB.fit_transform(np.array(df_req['articleType'].values))\n",
    "    seasonLabels = seasonLB.fit_transform(np.array(df_req['season'].values))\n",
    "    usageLabels = usageLB.fit_transform(np.array(df_req['usage'].values))\n",
    "    genderLabels = genderLB.fit_transform(np.array(df_req['gender'].values))\n",
    "\n",
    "    split = train_test_split(image_data,\n",
    "                             masterCategoryLabels, \n",
    "                             subCategoryLabels, \n",
    "                             articleTypeLabels, \n",
    "                             seasonLabels, \n",
    "                             usageLabels,\n",
    "                             genderLabels,\n",
    "                             test_size=0.2, random_state=42)\n",
    "\n",
    "    (trainX, testX,\n",
    "     trainMasterCategoryY, testMasterCategoryY,\n",
    "     trainSubCategoryY, testSubCategoryY,\n",
    "     trainArticleTypeY, testArticleTypeY,\n",
    "     trainSeasonY, testSeasonY,\n",
    "     trainUsageY, testUsageY,\n",
    "     trainGenderY, testgenderY) = split\n",
    "    \n",
    "    output = {}\n",
    "    output[\"LB\"] = {\n",
    "        \"masterCategoryLB\": masterCategoryLB,\n",
    "        \"subCategoryLB\": subCategoryLB,\n",
    "        \"articleTypeLB\": articleTypeLB,\n",
    "        \"seasonLB\": seasonLB,\n",
    "        \"usageLB\": usageLB,\n",
    "        \"genderLB\": genderLB\n",
    "    }\n",
    "    \n",
    "    output[\"splits\"] = (trainX, testX,\n",
    "     trainMasterCategoryY, testMasterCategoryY,\n",
    "     trainSubCategoryY, testSubCategoryY,\n",
    "     trainArticleTypeY, testArticleTypeY,\n",
    "     trainSeasonY, testSeasonY,\n",
    "     trainUsageY, testUsageY,\n",
    "     trainGenderY, testgenderY)\n",
    "    \n",
    "def build_model(width, height,data):\n",
    "    \"\"\"\n",
    "    Parameters\n",
    "        1. width: Image width\n",
    "        2. height: Image height\n",
    "        3. data: LB values\n",
    "    \n",
    "    \"\"\"\n",
    "    IMAGE_DIMS = (60,60,3)\n",
    "    # -------------------------\n",
    "    res50 = ResNet50(weights='imagenet', include_top=False, input_shape=IMAGE_DIMS)\n",
    "    res50.trainable=False\n",
    "    inputs = Input(shape=IMAGE_DIMS)\n",
    "    x = res50(inputs, training=False)\n",
    "    x = Flatten()(x)\n",
    "    x = Dense(1024, activation='relu')(x)\n",
    "    # -------------------------\n",
    "    locals().update(data)\n",
    "    masterCategory_branch = make_branch(x, len(masterCategoryLB.classes_), 'softmax', 'masterCategory')\n",
    "    subCategory_branch = make_branch(x, len(subCategoryLB.classes_), 'softmax', 'subCategory')\n",
    "    articleType_branch = make_branch(x, len(articleTypeLB.classes_), 'softmax', 'articleType')\n",
    "    season_branch = make_branch(x, len(seasonLB.classes_), 'softmax', 'season')\n",
    "    usage_branch = make_branch(x, len(usageLB.classes_), 'softmax', 'usage')\n",
    "    gender_branch = make_branch(x, len(genderLB.classes_),'softmax','gender')\n",
    "\n",
    "    model = Model(inputs=inputs,\n",
    "                outputs=[masterCategory_branch, subCategory_branch, articleType_branch, \n",
    "                            season_branch, usage_branch,gender_branch])\n",
    "    return model"
   ]
  },
  {
   "cell_type": "markdown",
   "metadata": {},
   "source": [
    "# EDA"
   ]
  },
  {
   "cell_type": "code",
   "execution_count": 3,
   "metadata": {},
   "outputs": [
    {
     "name": "stderr",
     "output_type": "stream",
     "text": [
      "b'Skipping line 6044: expected 10 fields, saw 11\\nSkipping line 6569: expected 10 fields, saw 11\\nSkipping line 7399: expected 10 fields, saw 11\\nSkipping line 7939: expected 10 fields, saw 11\\nSkipping line 9026: expected 10 fields, saw 11\\nSkipping line 10264: expected 10 fields, saw 11\\nSkipping line 10427: expected 10 fields, saw 11\\nSkipping line 10905: expected 10 fields, saw 11\\nSkipping line 11373: expected 10 fields, saw 11\\nSkipping line 11945: expected 10 fields, saw 11\\nSkipping line 14112: expected 10 fields, saw 11\\nSkipping line 14532: expected 10 fields, saw 11\\nSkipping line 15076: expected 10 fields, saw 12\\nSkipping line 29906: expected 10 fields, saw 11\\nSkipping line 31625: expected 10 fields, saw 11\\nSkipping line 33020: expected 10 fields, saw 11\\nSkipping line 35748: expected 10 fields, saw 11\\nSkipping line 35962: expected 10 fields, saw 11\\nSkipping line 37770: expected 10 fields, saw 11\\nSkipping line 38105: expected 10 fields, saw 11\\nSkipping line 38275: expected 10 fields, saw 11\\nSkipping line 38404: expected 10 fields, saw 12\\n'\n"
     ]
    },
    {
     "data": {
      "text/html": [
       "<div>\n",
       "<style scoped>\n",
       "    .dataframe tbody tr th:only-of-type {\n",
       "        vertical-align: middle;\n",
       "    }\n",
       "\n",
       "    .dataframe tbody tr th {\n",
       "        vertical-align: top;\n",
       "    }\n",
       "\n",
       "    .dataframe thead th {\n",
       "        text-align: right;\n",
       "    }\n",
       "</style>\n",
       "<table border=\"1\" class=\"dataframe\">\n",
       "  <thead>\n",
       "    <tr style=\"text-align: right;\">\n",
       "      <th></th>\n",
       "      <th>id</th>\n",
       "      <th>gender</th>\n",
       "      <th>masterCategory</th>\n",
       "      <th>subCategory</th>\n",
       "      <th>articleType</th>\n",
       "      <th>baseColour</th>\n",
       "      <th>season</th>\n",
       "      <th>year</th>\n",
       "      <th>usage</th>\n",
       "      <th>productDisplayName</th>\n",
       "    </tr>\n",
       "  </thead>\n",
       "  <tbody>\n",
       "    <tr>\n",
       "      <th>0</th>\n",
       "      <td>15970</td>\n",
       "      <td>Men</td>\n",
       "      <td>Apparel</td>\n",
       "      <td>Topwear</td>\n",
       "      <td>Shirts</td>\n",
       "      <td>Navy Blue</td>\n",
       "      <td>Fall</td>\n",
       "      <td>2011.0</td>\n",
       "      <td>Casual</td>\n",
       "      <td>Turtle Check Men Navy Blue Shirt</td>\n",
       "    </tr>\n",
       "    <tr>\n",
       "      <th>1</th>\n",
       "      <td>39386</td>\n",
       "      <td>Men</td>\n",
       "      <td>Apparel</td>\n",
       "      <td>Bottomwear</td>\n",
       "      <td>Jeans</td>\n",
       "      <td>Blue</td>\n",
       "      <td>Summer</td>\n",
       "      <td>2012.0</td>\n",
       "      <td>Casual</td>\n",
       "      <td>Peter England Men Party Blue Jeans</td>\n",
       "    </tr>\n",
       "    <tr>\n",
       "      <th>2</th>\n",
       "      <td>59263</td>\n",
       "      <td>Women</td>\n",
       "      <td>Accessories</td>\n",
       "      <td>Watches</td>\n",
       "      <td>Watches</td>\n",
       "      <td>Silver</td>\n",
       "      <td>Winter</td>\n",
       "      <td>2016.0</td>\n",
       "      <td>Casual</td>\n",
       "      <td>Titan Women Silver Watch</td>\n",
       "    </tr>\n",
       "    <tr>\n",
       "      <th>3</th>\n",
       "      <td>21379</td>\n",
       "      <td>Men</td>\n",
       "      <td>Apparel</td>\n",
       "      <td>Bottomwear</td>\n",
       "      <td>Track Pants</td>\n",
       "      <td>Black</td>\n",
       "      <td>Fall</td>\n",
       "      <td>2011.0</td>\n",
       "      <td>Casual</td>\n",
       "      <td>Manchester United Men Solid Black Track Pants</td>\n",
       "    </tr>\n",
       "    <tr>\n",
       "      <th>4</th>\n",
       "      <td>53759</td>\n",
       "      <td>Men</td>\n",
       "      <td>Apparel</td>\n",
       "      <td>Topwear</td>\n",
       "      <td>Tshirts</td>\n",
       "      <td>Grey</td>\n",
       "      <td>Summer</td>\n",
       "      <td>2012.0</td>\n",
       "      <td>Casual</td>\n",
       "      <td>Puma Men Grey T-shirt</td>\n",
       "    </tr>\n",
       "  </tbody>\n",
       "</table>\n",
       "</div>"
      ],
      "text/plain": [
       "      id gender masterCategory subCategory  articleType baseColour  season  \\\n",
       "0  15970    Men        Apparel     Topwear       Shirts  Navy Blue    Fall   \n",
       "1  39386    Men        Apparel  Bottomwear        Jeans       Blue  Summer   \n",
       "2  59263  Women    Accessories     Watches      Watches     Silver  Winter   \n",
       "3  21379    Men        Apparel  Bottomwear  Track Pants      Black    Fall   \n",
       "4  53759    Men        Apparel     Topwear      Tshirts       Grey  Summer   \n",
       "\n",
       "     year   usage                             productDisplayName  \n",
       "0  2011.0  Casual               Turtle Check Men Navy Blue Shirt  \n",
       "1  2012.0  Casual             Peter England Men Party Blue Jeans  \n",
       "2  2016.0  Casual                       Titan Women Silver Watch  \n",
       "3  2011.0  Casual  Manchester United Men Solid Black Track Pants  \n",
       "4  2012.0  Casual                          Puma Men Grey T-shirt  "
      ]
     },
     "execution_count": 3,
     "metadata": {},
     "output_type": "execute_result"
    }
   ],
   "source": [
    "## Read styles dataset\n",
    "df = pd.read_csv(\"../Dataset/archive/styles.csv\",error_bad_lines=False)\n",
    "df.head()"
   ]
  },
  {
   "cell_type": "code",
   "execution_count": 4,
   "metadata": {},
   "outputs": [
    {
     "name": "stdout",
     "output_type": "stream",
     "text": [
      "Index(['id', 'gender', 'masterCategory', 'subCategory', 'articleType',\n",
      "       'baseColour', 'season', 'year', 'usage', 'productDisplayName'],\n",
      "      dtype='object')\n",
      "['id', 'year']\n",
      "['gender', 'masterCategory', 'subCategory', 'articleType', 'baseColour', 'season', 'usage', 'productDisplayName']\n",
      "\n",
      "\n",
      "\n",
      "All columns shape 10\n",
      "Numerical columns shape 2\n",
      "Categotical columns shape 8\n"
     ]
    }
   ],
   "source": [
    "### Printing all columns of the dataset\n",
    "all_columns = df.columns\n",
    "numerical_columns = [x for x in df.columns if df[x].dtype in [\"int64\",\"float64\"]]\n",
    "categorical_columns = [x for x in df.columns if df[x].dtype in [\"object\"]]\n",
    "print(all_columns)\n",
    "print(numerical_columns)\n",
    "print(categorical_columns)\n",
    "\n",
    "print(\"\\n\\n\")\n",
    "print(\"All columns shape\",df.shape[1])\n",
    "print(\"Numerical columns shape\",len(numerical_columns))\n",
    "print(\"Categotical columns shape\",len(categorical_columns))"
   ]
  },
  {
   "cell_type": "markdown",
   "metadata": {},
   "source": [
    "# Preprocessing"
   ]
  },
  {
   "cell_type": "markdown",
   "metadata": {},
   "source": [
    "## 1. Handling Imbalance in dataset"
   ]
  },
  {
   "cell_type": "code",
   "execution_count": 5,
   "metadata": {},
   "outputs": [
    {
     "data": {
      "text/plain": [
       "Men       22147\n",
       "Women     18631\n",
       "Unisex     2161\n",
       "Boys        830\n",
       "Girls       655\n",
       "Name: gender, dtype: int64"
      ]
     },
     "execution_count": 5,
     "metadata": {},
     "output_type": "execute_result"
    }
   ],
   "source": [
    "## Gender\n",
    "df['gender'].value_counts(ascending=False)\n",
    "## Have to upsample images for unisex, boys, girls\n",
    "## required columns = ['Men','Women','Unisex']"
   ]
  },
  {
   "cell_type": "code",
   "execution_count": 6,
   "metadata": {},
   "outputs": [
    {
     "data": {
      "text/plain": [
       "Apparel           21397\n",
       "Accessories       11274\n",
       "Footwear           9219\n",
       "Personal Care      2403\n",
       "Free Items          105\n",
       "Sporting Goods       25\n",
       "Home                  1\n",
       "Name: masterCategory, dtype: int64"
      ]
     },
     "execution_count": 6,
     "metadata": {},
     "output_type": "execute_result"
    }
   ],
   "source": [
    "## masterCategory\n",
    "df['masterCategory'].value_counts(ascending=False)\n",
    "## Can drop ['Free Items','Sporting Goods','Home']\n",
    "## Have to upsample ['Accessories','Footwear','Personal Care']\n",
    "## required columns = ['Accessories','Footwear','Personal Care','Apparel']"
   ]
  },
  {
   "cell_type": "code",
   "execution_count": 7,
   "metadata": {},
   "outputs": [
    {
     "data": {
      "text/plain": [
       "Topwear                     15402\n",
       "Shoes                        7343\n",
       "Bags                         3055\n",
       "Bottomwear                   2694\n",
       "Watches                      2542\n",
       "Innerwear                    1808\n",
       "Jewellery                    1079\n",
       "Eyewear                      1073\n",
       "Fragrance                    1011\n",
       "Sandal                        963\n",
       "Wallets                       933\n",
       "Flip Flops                    913\n",
       "Belts                         811\n",
       "Socks                         698\n",
       "Lips                          527\n",
       "Dress                         478\n",
       "Loungewear and Nightwear      470\n",
       "Saree                         427\n",
       "Nails                         329\n",
       "Makeup                        307\n",
       "Headwear                      293\n",
       "Ties                          258\n",
       "Accessories                   129\n",
       "Scarves                       118\n",
       "Cufflinks                     108\n",
       "Apparel Set                   106\n",
       "Free Gifts                    104\n",
       "Stoles                         90\n",
       "Skin Care                      77\n",
       "Skin                           69\n",
       "Eyes                           43\n",
       "Mufflers                       38\n",
       "Shoe Accessories               24\n",
       "Sports Equipment               21\n",
       "Gloves                         20\n",
       "Hair                           19\n",
       "Bath and Body                  12\n",
       "Water Bottle                    7\n",
       "Umbrellas                       6\n",
       "Perfumes                        6\n",
       "Wristbands                      4\n",
       "Beauty Accessories              4\n",
       "Sports Accessories              3\n",
       "Vouchers                        1\n",
       "Home Furnishing                 1\n",
       "Name: subCategory, dtype: int64"
      ]
     },
     "execution_count": 7,
     "metadata": {},
     "output_type": "execute_result"
    }
   ],
   "source": [
    "## sub category\n",
    "df['subCategory'].value_counts(ascending=False)\n",
    "## upsample ['Watches','Bottomwear','Bags','Shoes']\n",
    "## required columns = ['Watches','Bottomwear','Bags','Shoes','Topwear']"
   ]
  },
  {
   "cell_type": "code",
   "execution_count": 8,
   "metadata": {},
   "outputs": [
    {
     "data": {
      "text/plain": [
       "Tshirts                7067\n",
       "Shirts                 3217\n",
       "Casual Shoes           2845\n",
       "Watches                2542\n",
       "Sports Shoes           2036\n",
       "                       ... \n",
       "Body Wash and Scrub       1\n",
       "Ipad                      1\n",
       "Mens Grooming Kit         1\n",
       "Hair Accessory            1\n",
       "Cushion Covers            1\n",
       "Name: articleType, Length: 143, dtype: int64"
      ]
     },
     "execution_count": 8,
     "metadata": {},
     "output_type": "execute_result"
    }
   ],
   "source": [
    "## article Type\n",
    "df['articleType'].value_counts(ascending=False)\n",
    "# required_fields = ['Tshirts','Shirts','Casual Shoes','Watches','Sports Shoes']\n",
    "# upsample ['Shirts','Casual Shoes','Watches','Sports Shoes']"
   ]
  },
  {
   "cell_type": "code",
   "execution_count": 9,
   "metadata": {},
   "outputs": [
    {
     "data": {
      "text/plain": [
       "Summer    21472\n",
       "Fall      11431\n",
       "Winter     8517\n",
       "Spring     2983\n",
       "Name: season, dtype: int64"
      ]
     },
     "execution_count": 9,
     "metadata": {},
     "output_type": "execute_result"
    }
   ],
   "source": [
    "## season\n",
    "df['season'].value_counts(ascending=False)\n",
    "# upsample ['Winter','Spring','Fall']\n",
    "# required fields = ['Winter','Spring','Fall','Summer']"
   ]
  },
  {
   "cell_type": "code",
   "execution_count": 10,
   "metadata": {},
   "outputs": [
    {
     "data": {
      "text/plain": [
       "Casual          34406\n",
       "Sports           4025\n",
       "Ethnic           3208\n",
       "Formal           2345\n",
       "Smart Casual       67\n",
       "Party              29\n",
       "Travel             26\n",
       "Home                1\n",
       "Name: usage, dtype: int64"
      ]
     },
     "execution_count": 10,
     "metadata": {},
     "output_type": "execute_result"
    }
   ],
   "source": [
    "## Usage\n",
    "df['usage'].value_counts(ascending=False)\n",
    "# Upsample ['Sports','Ethnic','Formal']\n",
    "# Required fields = ['Sports','Ethnic','Formal','Casual']"
   ]
  },
  {
   "cell_type": "code",
   "execution_count": 11,
   "metadata": {},
   "outputs": [],
   "source": [
    "required_fields_dict = {\n",
    "    \"gender\": ['Men','Women','Unisex'],\n",
    "    \"masterCategory\": ['Accessories','Footwear','Personal Care','Apparel'],\n",
    "    \"subCategory\": ['Watches','Bottomwear','Bags','Shoes','Topwear'],\n",
    "    \"articleType\":['Tshirts','Shirts','Casual Shoes','Watches','Sports Shoes'],\n",
    "    \"season\":['Winter','Spring','Fall','Summer'],\n",
    "    \"usage\": ['Sports','Ethnic','Formal','Casual']\n",
    "}"
   ]
  },
  {
   "cell_type": "code",
   "execution_count": 12,
   "metadata": {},
   "outputs": [],
   "source": [
    "def remove_fields(df):\n",
    "    df_copy = df.copy()\n",
    "    for field in required_fields_dict.keys():\n",
    "        df_copy = df_copy[df_copy[field].isin(required_fields_dict[field])]\n",
    "    \n",
    "    return df_copy"
   ]
  },
  {
   "cell_type": "code",
   "execution_count": 13,
   "metadata": {},
   "outputs": [
    {
     "name": "stdout",
     "output_type": "stream",
     "text": [
      "(16850, 10)\n"
     ]
    },
    {
     "data": {
      "text/html": [
       "<div>\n",
       "<style scoped>\n",
       "    .dataframe tbody tr th:only-of-type {\n",
       "        vertical-align: middle;\n",
       "    }\n",
       "\n",
       "    .dataframe tbody tr th {\n",
       "        vertical-align: top;\n",
       "    }\n",
       "\n",
       "    .dataframe thead th {\n",
       "        text-align: right;\n",
       "    }\n",
       "</style>\n",
       "<table border=\"1\" class=\"dataframe\">\n",
       "  <thead>\n",
       "    <tr style=\"text-align: right;\">\n",
       "      <th></th>\n",
       "      <th>id</th>\n",
       "      <th>gender</th>\n",
       "      <th>masterCategory</th>\n",
       "      <th>subCategory</th>\n",
       "      <th>articleType</th>\n",
       "      <th>baseColour</th>\n",
       "      <th>season</th>\n",
       "      <th>year</th>\n",
       "      <th>usage</th>\n",
       "      <th>productDisplayName</th>\n",
       "    </tr>\n",
       "  </thead>\n",
       "  <tbody>\n",
       "    <tr>\n",
       "      <th>0</th>\n",
       "      <td>15970</td>\n",
       "      <td>Men</td>\n",
       "      <td>Apparel</td>\n",
       "      <td>Topwear</td>\n",
       "      <td>Shirts</td>\n",
       "      <td>Navy Blue</td>\n",
       "      <td>Fall</td>\n",
       "      <td>2011.0</td>\n",
       "      <td>Casual</td>\n",
       "      <td>Turtle Check Men Navy Blue Shirt</td>\n",
       "    </tr>\n",
       "    <tr>\n",
       "      <th>2</th>\n",
       "      <td>59263</td>\n",
       "      <td>Women</td>\n",
       "      <td>Accessories</td>\n",
       "      <td>Watches</td>\n",
       "      <td>Watches</td>\n",
       "      <td>Silver</td>\n",
       "      <td>Winter</td>\n",
       "      <td>2016.0</td>\n",
       "      <td>Casual</td>\n",
       "      <td>Titan Women Silver Watch</td>\n",
       "    </tr>\n",
       "    <tr>\n",
       "      <th>4</th>\n",
       "      <td>53759</td>\n",
       "      <td>Men</td>\n",
       "      <td>Apparel</td>\n",
       "      <td>Topwear</td>\n",
       "      <td>Tshirts</td>\n",
       "      <td>Grey</td>\n",
       "      <td>Summer</td>\n",
       "      <td>2012.0</td>\n",
       "      <td>Casual</td>\n",
       "      <td>Puma Men Grey T-shirt</td>\n",
       "    </tr>\n",
       "    <tr>\n",
       "      <th>5</th>\n",
       "      <td>1855</td>\n",
       "      <td>Men</td>\n",
       "      <td>Apparel</td>\n",
       "      <td>Topwear</td>\n",
       "      <td>Tshirts</td>\n",
       "      <td>Grey</td>\n",
       "      <td>Summer</td>\n",
       "      <td>2011.0</td>\n",
       "      <td>Casual</td>\n",
       "      <td>Inkfruit Mens Chain Reaction T-shirt</td>\n",
       "    </tr>\n",
       "    <tr>\n",
       "      <th>6</th>\n",
       "      <td>30805</td>\n",
       "      <td>Men</td>\n",
       "      <td>Apparel</td>\n",
       "      <td>Topwear</td>\n",
       "      <td>Shirts</td>\n",
       "      <td>Green</td>\n",
       "      <td>Summer</td>\n",
       "      <td>2012.0</td>\n",
       "      <td>Ethnic</td>\n",
       "      <td>Fabindia Men Striped Green Shirt</td>\n",
       "    </tr>\n",
       "  </tbody>\n",
       "</table>\n",
       "</div>"
      ],
      "text/plain": [
       "      id gender masterCategory subCategory articleType baseColour  season  \\\n",
       "0  15970    Men        Apparel     Topwear      Shirts  Navy Blue    Fall   \n",
       "2  59263  Women    Accessories     Watches     Watches     Silver  Winter   \n",
       "4  53759    Men        Apparel     Topwear     Tshirts       Grey  Summer   \n",
       "5   1855    Men        Apparel     Topwear     Tshirts       Grey  Summer   \n",
       "6  30805    Men        Apparel     Topwear      Shirts      Green  Summer   \n",
       "\n",
       "     year   usage                    productDisplayName  \n",
       "0  2011.0  Casual      Turtle Check Men Navy Blue Shirt  \n",
       "2  2016.0  Casual              Titan Women Silver Watch  \n",
       "4  2012.0  Casual                 Puma Men Grey T-shirt  \n",
       "5  2011.0  Casual  Inkfruit Mens Chain Reaction T-shirt  \n",
       "6  2012.0  Ethnic      Fabindia Men Striped Green Shirt  "
      ]
     },
     "execution_count": 13,
     "metadata": {},
     "output_type": "execute_result"
    }
   ],
   "source": [
    "df_req = remove_fields(df)\n",
    "print(df_req.shape)\n",
    "df_req.head()"
   ]
  },
  {
   "cell_type": "code",
   "execution_count": 14,
   "metadata": {},
   "outputs": [
    {
     "data": {
      "text/plain": [
       "Men       13349\n",
       "Women      3023\n",
       "Unisex      478\n",
       "Name: gender, dtype: int64"
      ]
     },
     "execution_count": 14,
     "metadata": {},
     "output_type": "execute_result"
    }
   ],
   "source": [
    "df_req['gender'].value_counts()"
   ]
  },
  {
   "cell_type": "code",
   "execution_count": 15,
   "metadata": {},
   "outputs": [
    {
     "data": {
      "text/plain": [
       "id                    0\n",
       "gender                0\n",
       "masterCategory        0\n",
       "subCategory           0\n",
       "articleType           0\n",
       "baseColour            0\n",
       "season                0\n",
       "year                  0\n",
       "usage                 0\n",
       "productDisplayName    0\n",
       "dtype: int64"
      ]
     },
     "execution_count": 15,
     "metadata": {},
     "output_type": "execute_result"
    }
   ],
   "source": [
    "df_req.isnull().sum()"
   ]
  },
  {
   "cell_type": "markdown",
   "metadata": {},
   "source": [
    "# Finding feature dependance"
   ]
  },
  {
   "cell_type": "code",
   "execution_count": 16,
   "metadata": {},
   "outputs": [
    {
     "data": {
      "text/html": [
       "<div>\n",
       "<style scoped>\n",
       "    .dataframe tbody tr th:only-of-type {\n",
       "        vertical-align: middle;\n",
       "    }\n",
       "\n",
       "    .dataframe tbody tr th {\n",
       "        vertical-align: top;\n",
       "    }\n",
       "\n",
       "    .dataframe thead th {\n",
       "        text-align: right;\n",
       "    }\n",
       "</style>\n",
       "<table border=\"1\" class=\"dataframe\">\n",
       "  <thead>\n",
       "    <tr style=\"text-align: right;\">\n",
       "      <th></th>\n",
       "      <th>gender</th>\n",
       "      <th>masterCategory</th>\n",
       "      <th>subCategory</th>\n",
       "      <th>articleType</th>\n",
       "      <th>baseColour</th>\n",
       "      <th>season</th>\n",
       "      <th>year</th>\n",
       "      <th>usage</th>\n",
       "    </tr>\n",
       "  </thead>\n",
       "  <tbody>\n",
       "    <tr>\n",
       "      <th>0</th>\n",
       "      <td>Men</td>\n",
       "      <td>Apparel</td>\n",
       "      <td>Topwear</td>\n",
       "      <td>Shirts</td>\n",
       "      <td>Navy Blue</td>\n",
       "      <td>Fall</td>\n",
       "      <td>2011.0</td>\n",
       "      <td>Casual</td>\n",
       "    </tr>\n",
       "    <tr>\n",
       "      <th>2</th>\n",
       "      <td>Women</td>\n",
       "      <td>Accessories</td>\n",
       "      <td>Watches</td>\n",
       "      <td>Watches</td>\n",
       "      <td>Silver</td>\n",
       "      <td>Winter</td>\n",
       "      <td>2016.0</td>\n",
       "      <td>Casual</td>\n",
       "    </tr>\n",
       "    <tr>\n",
       "      <th>4</th>\n",
       "      <td>Men</td>\n",
       "      <td>Apparel</td>\n",
       "      <td>Topwear</td>\n",
       "      <td>Tshirts</td>\n",
       "      <td>Grey</td>\n",
       "      <td>Summer</td>\n",
       "      <td>2012.0</td>\n",
       "      <td>Casual</td>\n",
       "    </tr>\n",
       "    <tr>\n",
       "      <th>5</th>\n",
       "      <td>Men</td>\n",
       "      <td>Apparel</td>\n",
       "      <td>Topwear</td>\n",
       "      <td>Tshirts</td>\n",
       "      <td>Grey</td>\n",
       "      <td>Summer</td>\n",
       "      <td>2011.0</td>\n",
       "      <td>Casual</td>\n",
       "    </tr>\n",
       "    <tr>\n",
       "      <th>6</th>\n",
       "      <td>Men</td>\n",
       "      <td>Apparel</td>\n",
       "      <td>Topwear</td>\n",
       "      <td>Shirts</td>\n",
       "      <td>Green</td>\n",
       "      <td>Summer</td>\n",
       "      <td>2012.0</td>\n",
       "      <td>Ethnic</td>\n",
       "    </tr>\n",
       "  </tbody>\n",
       "</table>\n",
       "</div>"
      ],
      "text/plain": [
       "  gender masterCategory subCategory articleType baseColour  season    year  \\\n",
       "0    Men        Apparel     Topwear      Shirts  Navy Blue    Fall  2011.0   \n",
       "2  Women    Accessories     Watches     Watches     Silver  Winter  2016.0   \n",
       "4    Men        Apparel     Topwear     Tshirts       Grey  Summer  2012.0   \n",
       "5    Men        Apparel     Topwear     Tshirts       Grey  Summer  2011.0   \n",
       "6    Men        Apparel     Topwear      Shirts      Green  Summer  2012.0   \n",
       "\n",
       "    usage  \n",
       "0  Casual  \n",
       "2  Casual  \n",
       "4  Casual  \n",
       "5  Casual  \n",
       "6  Ethnic  "
      ]
     },
     "execution_count": 16,
     "metadata": {},
     "output_type": "execute_result"
    }
   ],
   "source": [
    "corr_df = df_req.drop(['id','productDisplayName'],axis=1)\n",
    "### Label Encoding\n",
    "# categorical_fields = ['gender','masterCategory','subCategory','articleType','baseColour','season','year','usage']\n",
    "# for field in categorical_fields:\n",
    "#     corr_df[field],_ = pd.factorize(corr_df[field])\n",
    "corr_df.head()"
   ]
  },
  {
   "cell_type": "code",
   "execution_count": 17,
   "metadata": {},
   "outputs": [],
   "source": [
    "X_features = corr_df.drop(['baseColour','usage','season'],axis=1)#[['masterCategory','articleType']]\n",
    "y_season = corr_df['usage']\n",
    "\n",
    "X_features_train,X_features_test,y_season_train, y_season_test = train_test_split(X_features,y_season,test_size=0.3,random_state=42)"
   ]
  },
  {
   "cell_type": "code",
   "execution_count": 18,
   "metadata": {},
   "outputs": [
    {
     "name": "stdout",
     "output_type": "stream",
     "text": [
      "Apparel        6656\n",
      "Footwear       3377\n",
      "Accessories    1762\n",
      "Name: masterCategory, dtype: int64\n",
      "Apparel        2887\n",
      "Footwear       1436\n",
      "Accessories     732\n",
      "Name: masterCategory, dtype: int64\n",
      "Casual    9049\n",
      "Sports    2106\n",
      "Formal     629\n",
      "Ethnic      11\n",
      "Name: usage, dtype: int64\n",
      "Casual    3913\n",
      "Sports     868\n",
      "Formal     272\n",
      "Ethnic       2\n",
      "Name: usage, dtype: int64\n"
     ]
    }
   ],
   "source": [
    "print(X_features_train['masterCategory'].value_counts())\n",
    "print(X_features_test['masterCategory'].value_counts())\n",
    "print(y_season_train.value_counts())\n",
    "print(y_season_test.value_counts())"
   ]
  },
  {
   "cell_type": "code",
   "execution_count": 19,
   "metadata": {},
   "outputs": [
    {
     "data": {
      "text/html": [
       "<div>\n",
       "<style scoped>\n",
       "    .dataframe tbody tr th:only-of-type {\n",
       "        vertical-align: middle;\n",
       "    }\n",
       "\n",
       "    .dataframe tbody tr th {\n",
       "        vertical-align: top;\n",
       "    }\n",
       "\n",
       "    .dataframe thead th {\n",
       "        text-align: right;\n",
       "    }\n",
       "</style>\n",
       "<table border=\"1\" class=\"dataframe\">\n",
       "  <thead>\n",
       "    <tr style=\"text-align: right;\">\n",
       "      <th></th>\n",
       "      <th>year</th>\n",
       "      <th>gender_Unisex</th>\n",
       "      <th>gender_Women</th>\n",
       "      <th>masterCategory_Apparel</th>\n",
       "      <th>masterCategory_Footwear</th>\n",
       "      <th>subCategory_Topwear</th>\n",
       "      <th>subCategory_Watches</th>\n",
       "      <th>articleType_Shirts</th>\n",
       "      <th>articleType_Sports Shoes</th>\n",
       "      <th>articleType_Tshirts</th>\n",
       "      <th>articleType_Watches</th>\n",
       "    </tr>\n",
       "  </thead>\n",
       "  <tbody>\n",
       "    <tr>\n",
       "      <th>42650</th>\n",
       "      <td>2011.0</td>\n",
       "      <td>0</td>\n",
       "      <td>0</td>\n",
       "      <td>1</td>\n",
       "      <td>0</td>\n",
       "      <td>1</td>\n",
       "      <td>0</td>\n",
       "      <td>0</td>\n",
       "      <td>0</td>\n",
       "      <td>1</td>\n",
       "      <td>0</td>\n",
       "    </tr>\n",
       "    <tr>\n",
       "      <th>2184</th>\n",
       "      <td>2011.0</td>\n",
       "      <td>0</td>\n",
       "      <td>0</td>\n",
       "      <td>1</td>\n",
       "      <td>0</td>\n",
       "      <td>1</td>\n",
       "      <td>0</td>\n",
       "      <td>1</td>\n",
       "      <td>0</td>\n",
       "      <td>0</td>\n",
       "      <td>0</td>\n",
       "    </tr>\n",
       "    <tr>\n",
       "      <th>37399</th>\n",
       "      <td>2011.0</td>\n",
       "      <td>0</td>\n",
       "      <td>0</td>\n",
       "      <td>1</td>\n",
       "      <td>0</td>\n",
       "      <td>1</td>\n",
       "      <td>0</td>\n",
       "      <td>1</td>\n",
       "      <td>0</td>\n",
       "      <td>0</td>\n",
       "      <td>0</td>\n",
       "    </tr>\n",
       "    <tr>\n",
       "      <th>17958</th>\n",
       "      <td>2011.0</td>\n",
       "      <td>0</td>\n",
       "      <td>0</td>\n",
       "      <td>0</td>\n",
       "      <td>1</td>\n",
       "      <td>0</td>\n",
       "      <td>0</td>\n",
       "      <td>0</td>\n",
       "      <td>1</td>\n",
       "      <td>0</td>\n",
       "      <td>0</td>\n",
       "    </tr>\n",
       "    <tr>\n",
       "      <th>21484</th>\n",
       "      <td>2011.0</td>\n",
       "      <td>0</td>\n",
       "      <td>0</td>\n",
       "      <td>1</td>\n",
       "      <td>0</td>\n",
       "      <td>1</td>\n",
       "      <td>0</td>\n",
       "      <td>0</td>\n",
       "      <td>0</td>\n",
       "      <td>1</td>\n",
       "      <td>0</td>\n",
       "    </tr>\n",
       "  </tbody>\n",
       "</table>\n",
       "</div>"
      ],
      "text/plain": [
       "         year  gender_Unisex  gender_Women  masterCategory_Apparel  \\\n",
       "42650  2011.0              0             0                       1   \n",
       "2184   2011.0              0             0                       1   \n",
       "37399  2011.0              0             0                       1   \n",
       "17958  2011.0              0             0                       0   \n",
       "21484  2011.0              0             0                       1   \n",
       "\n",
       "       masterCategory_Footwear  subCategory_Topwear  subCategory_Watches  \\\n",
       "42650                        0                    1                    0   \n",
       "2184                         0                    1                    0   \n",
       "37399                        0                    1                    0   \n",
       "17958                        1                    0                    0   \n",
       "21484                        0                    1                    0   \n",
       "\n",
       "       articleType_Shirts  articleType_Sports Shoes  articleType_Tshirts  \\\n",
       "42650                   0                         0                    1   \n",
       "2184                    1                         0                    0   \n",
       "37399                   1                         0                    0   \n",
       "17958                   0                         1                    0   \n",
       "21484                   0                         0                    1   \n",
       "\n",
       "       articleType_Watches  \n",
       "42650                    0  \n",
       "2184                     0  \n",
       "37399                    0  \n",
       "17958                    0  \n",
       "21484                    0  "
      ]
     },
     "execution_count": 19,
     "metadata": {},
     "output_type": "execute_result"
    }
   ],
   "source": [
    "X_features_train = pd.get_dummies(X_features_train,drop_first=True)\n",
    "X_features_train.head()"
   ]
  },
  {
   "cell_type": "code",
   "execution_count": 20,
   "metadata": {},
   "outputs": [
    {
     "data": {
      "text/html": [
       "<div>\n",
       "<style scoped>\n",
       "    .dataframe tbody tr th:only-of-type {\n",
       "        vertical-align: middle;\n",
       "    }\n",
       "\n",
       "    .dataframe tbody tr th {\n",
       "        vertical-align: top;\n",
       "    }\n",
       "\n",
       "    .dataframe thead th {\n",
       "        text-align: right;\n",
       "    }\n",
       "</style>\n",
       "<table border=\"1\" class=\"dataframe\">\n",
       "  <thead>\n",
       "    <tr style=\"text-align: right;\">\n",
       "      <th></th>\n",
       "      <th>year</th>\n",
       "      <th>gender_Unisex</th>\n",
       "      <th>gender_Women</th>\n",
       "      <th>masterCategory_Apparel</th>\n",
       "      <th>masterCategory_Footwear</th>\n",
       "      <th>subCategory_Topwear</th>\n",
       "      <th>subCategory_Watches</th>\n",
       "      <th>articleType_Shirts</th>\n",
       "      <th>articleType_Sports Shoes</th>\n",
       "      <th>articleType_Tshirts</th>\n",
       "      <th>articleType_Watches</th>\n",
       "    </tr>\n",
       "  </thead>\n",
       "  <tbody>\n",
       "    <tr>\n",
       "      <th>29168</th>\n",
       "      <td>2011.0</td>\n",
       "      <td>0</td>\n",
       "      <td>0</td>\n",
       "      <td>1</td>\n",
       "      <td>0</td>\n",
       "      <td>1</td>\n",
       "      <td>0</td>\n",
       "      <td>0</td>\n",
       "      <td>0</td>\n",
       "      <td>1</td>\n",
       "      <td>0</td>\n",
       "    </tr>\n",
       "    <tr>\n",
       "      <th>12619</th>\n",
       "      <td>2011.0</td>\n",
       "      <td>0</td>\n",
       "      <td>0</td>\n",
       "      <td>0</td>\n",
       "      <td>1</td>\n",
       "      <td>0</td>\n",
       "      <td>0</td>\n",
       "      <td>0</td>\n",
       "      <td>1</td>\n",
       "      <td>0</td>\n",
       "      <td>0</td>\n",
       "    </tr>\n",
       "    <tr>\n",
       "      <th>42673</th>\n",
       "      <td>2011.0</td>\n",
       "      <td>0</td>\n",
       "      <td>0</td>\n",
       "      <td>1</td>\n",
       "      <td>0</td>\n",
       "      <td>1</td>\n",
       "      <td>0</td>\n",
       "      <td>0</td>\n",
       "      <td>0</td>\n",
       "      <td>1</td>\n",
       "      <td>0</td>\n",
       "    </tr>\n",
       "    <tr>\n",
       "      <th>11994</th>\n",
       "      <td>2011.0</td>\n",
       "      <td>0</td>\n",
       "      <td>0</td>\n",
       "      <td>0</td>\n",
       "      <td>1</td>\n",
       "      <td>0</td>\n",
       "      <td>0</td>\n",
       "      <td>0</td>\n",
       "      <td>1</td>\n",
       "      <td>0</td>\n",
       "      <td>0</td>\n",
       "    </tr>\n",
       "    <tr>\n",
       "      <th>38356</th>\n",
       "      <td>2011.0</td>\n",
       "      <td>0</td>\n",
       "      <td>0</td>\n",
       "      <td>1</td>\n",
       "      <td>0</td>\n",
       "      <td>1</td>\n",
       "      <td>0</td>\n",
       "      <td>0</td>\n",
       "      <td>0</td>\n",
       "      <td>1</td>\n",
       "      <td>0</td>\n",
       "    </tr>\n",
       "  </tbody>\n",
       "</table>\n",
       "</div>"
      ],
      "text/plain": [
       "         year  gender_Unisex  gender_Women  masterCategory_Apparel  \\\n",
       "29168  2011.0              0             0                       1   \n",
       "12619  2011.0              0             0                       0   \n",
       "42673  2011.0              0             0                       1   \n",
       "11994  2011.0              0             0                       0   \n",
       "38356  2011.0              0             0                       1   \n",
       "\n",
       "       masterCategory_Footwear  subCategory_Topwear  subCategory_Watches  \\\n",
       "29168                        0                    1                    0   \n",
       "12619                        1                    0                    0   \n",
       "42673                        0                    1                    0   \n",
       "11994                        1                    0                    0   \n",
       "38356                        0                    1                    0   \n",
       "\n",
       "       articleType_Shirts  articleType_Sports Shoes  articleType_Tshirts  \\\n",
       "29168                   0                         0                    1   \n",
       "12619                   0                         1                    0   \n",
       "42673                   0                         0                    1   \n",
       "11994                   0                         1                    0   \n",
       "38356                   0                         0                    1   \n",
       "\n",
       "       articleType_Watches  \n",
       "29168                    0  \n",
       "12619                    0  \n",
       "42673                    0  \n",
       "11994                    0  \n",
       "38356                    0  "
      ]
     },
     "execution_count": 20,
     "metadata": {},
     "output_type": "execute_result"
    }
   ],
   "source": [
    "X_features_test = pd.get_dummies(X_features_test,drop_first=True)\n",
    "X_features_test.head()"
   ]
  },
  {
   "cell_type": "code",
   "execution_count": 21,
   "metadata": {},
   "outputs": [
    {
     "name": "stdout",
     "output_type": "stream",
     "text": [
      "Train: (11795, 11)\n",
      "Test: (5055, 11)\n"
     ]
    }
   ],
   "source": [
    "# X_features_train.drop('year',axis=1,inplace=True)\n",
    "# X_features_test.drop('year',axis=1,inplace=True)\n",
    "print(\"Train: {}\".format(X_features_train.shape))\n",
    "print(\"Test: {}\".format(X_features_test.shape))"
   ]
  },
  {
   "cell_type": "code",
   "execution_count": 22,
   "metadata": {},
   "outputs": [
    {
     "data": {
      "text/plain": [
       "<AxesSubplot:>"
      ]
     },
     "execution_count": 22,
     "metadata": {},
     "output_type": "execute_result"
    },
    {
     "data": {
      "image/png": "[encoded data removed]",
      "text/plain": [
       "<Figure size 432x288 with 2 Axes>"
      ]
     },
     "metadata": {
      "needs_background": "light"
     },
     "output_type": "display_data"
    }
   ],
   "source": [
    "corr = X_features_train.corr()\n",
    "sns.heatmap(corr,cmap=\"Greens\",fmt=\".2f\",annot=True)"
   ]
  },
  {
   "cell_type": "code",
   "execution_count": 23,
   "metadata": {},
   "outputs": [
    {
     "data": {
      "text/plain": [
       "0.8876360039564787"
      ]
     },
     "execution_count": 23,
     "metadata": {},
     "output_type": "execute_result"
    }
   ],
   "source": [
    "from sklearn.ensemble import RandomForestClassifier\n",
    "from sklearn.metrics import accuracy_score\n",
    "clf = RandomForestClassifier()\n",
    "clf.fit(X_features_train,y_season_train)\n",
    "y_pred = clf.predict(X_features_test)\n",
    "accuracy_score(y_season_test,y_pred)"
   ]
  },
  {
   "cell_type": "code",
   "execution_count": 24,
   "metadata": {},
   "outputs": [
    {
     "data": {
      "text/plain": [
       "array(['Casual', 'Sports', 'Casual', ..., 'Casual', 'Sports', 'Casual'],\n",
       "      dtype=object)"
      ]
     },
     "execution_count": 24,
     "metadata": {},
     "output_type": "execute_result"
    }
   ],
   "source": [
    "y_pred"
   ]
  },
  {
   "cell_type": "code",
   "execution_count": 25,
   "metadata": {},
   "outputs": [
    {
     "data": {
      "text/plain": [
       "<AxesSubplot:>"
      ]
     },
     "execution_count": 25,
     "metadata": {},
     "output_type": "execute_result"
    },
    {
     "data": {
      "image/png": "[encoded data removed]",
      "text/plain": [
       "<Figure size 432x288 with 2 Axes>"
      ]
     },
     "metadata": {
      "needs_background": "light"
     },
     "output_type": "display_data"
    }
   ],
   "source": [
    "from sklearn.metrics import confusion_matrix\n",
    "cm = confusion_matrix(y_season_test,y_pred)\n",
    "cm_df = pd.DataFrame(cm,columns=clf.classes_,index=clf.classes_)\n",
    "\n",
    "sns.heatmap(cm_df,cmap=\"Greens\",fmt=\"d\",annot=True)"
   ]
  },
  {
   "cell_type": "code",
   "execution_count": 26,
   "metadata": {},
   "outputs": [],
   "source": [
    "## Save Random forest model\n",
    "## Inputs ['year','gender','masterCategory','subCategory','articleType','usage']"
   ]
  },
  {
   "cell_type": "markdown",
   "metadata": {},
   "source": [
    "## 2. KNN"
   ]
  },
  {
   "cell_type": "code",
   "execution_count": 27,
   "metadata": {},
   "outputs": [
    {
     "data": {
      "text/plain": [
       "KNeighborsClassifier(n_neighbors=12)"
      ]
     },
     "execution_count": 27,
     "metadata": {},
     "output_type": "execute_result"
    }
   ],
   "source": [
    "from sklearn.neighbors import KNeighborsClassifier\n",
    "neigh = KNeighborsClassifier(n_neighbors=12)\n",
    "neigh.fit(X_features_train,y_season_train)"
   ]
  },
  {
   "cell_type": "code",
   "execution_count": 28,
   "metadata": {},
   "outputs": [
    {
     "data": {
      "text/plain": [
       "array(['Casual', 'Ethnic', 'Formal', 'Sports'], dtype=object)"
      ]
     },
     "execution_count": 28,
     "metadata": {},
     "output_type": "execute_result"
    }
   ],
   "source": [
    "neigh.classes_"
   ]
  },
  {
   "cell_type": "code",
   "execution_count": 29,
   "metadata": {},
   "outputs": [
    {
     "name": "stdout",
     "output_type": "stream",
     "text": [
      "0.8880316518298714\n"
     ]
    },
    {
     "data": {
      "text/plain": [
       "<AxesSubplot:>"
      ]
     },
     "execution_count": 29,
     "metadata": {},
     "output_type": "execute_result"
    },
    {
     "data": {
      "image/png": "[encoded data removed]",
      "text/plain": [
       "<Figure size 432x288 with 2 Axes>"
      ]
     },
     "metadata": {
      "needs_background": "light"
     },
     "output_type": "display_data"
    }
   ],
   "source": [
    "y_pred = neigh.predict(X_features_test)\n",
    "print(accuracy_score(y_season_test,y_pred))\n",
    "cm = confusion_matrix(y_season_test,y_pred)\n",
    "cmdf = pd.DataFrame(cm,columns=neigh.classes_,index=neigh.classes_)\n",
    "sns.heatmap(cmdf,cmap=\"Greens\",annot=True,fmt=\"d\")"
   ]
  },
  {
   "cell_type": "markdown",
   "metadata": {},
   "source": [
    "### 2.2 Hyperparameter tuning\n",
    "\n",
    "GridSearchCV is used to tune the hyperparameters"
   ]
  },
  {
   "cell_type": "code",
   "execution_count": 30,
   "metadata": {},
   "outputs": [
    {
     "name": "stdout",
     "output_type": "stream",
     "text": [
      "Fitting 3 folds for each of 36 candidates, totalling 108 fits\n"
     ]
    }
   ],
   "source": [
    "from sklearn.model_selection import GridSearchCV\n",
    "KNeighborsClassifier()\n",
    "grid_params = {\n",
    "    'n_neighbors':[i for i in range(3,21,2)],\n",
    "    'weights':['uniform','distance'],\n",
    "    'metric':['euclidean','manhattan']\n",
    "    \n",
    "}\n",
    "\n",
    "gs = GridSearchCV(\n",
    "    KNeighborsClassifier(),\n",
    "    grid_params,\n",
    "    verbose=1,\n",
    "    cv=3,\n",
    "    n_jobs=-1\n",
    ")\n",
    "\n",
    "gs_results = gs.fit(X_features_train,y_season_train)"
   ]
  },
  {
   "cell_type": "code",
   "execution_count": 31,
   "metadata": {},
   "outputs": [
    {
     "name": "stdout",
     "output_type": "stream",
     "text": [
      "0.8878338278931751\n"
     ]
    },
    {
     "data": {
      "text/plain": [
       "<AxesSubplot:>"
      ]
     },
     "execution_count": 31,
     "metadata": {},
     "output_type": "execute_result"
    },
    {
     "data": {
      "image/png": "[encoded data removed]",
      "text/plain": [
       "<Figure size 432x288 with 2 Axes>"
      ]
     },
     "metadata": {
      "needs_background": "light"
     },
     "output_type": "display_data"
    }
   ],
   "source": [
    "neigh = gs_results.best_estimator_\n",
    "neigh.fit(X_features_train,y_season_train)\n",
    "y_pred = neigh.predict(X_features_test)\n",
    "print(accuracy_score(y_season_test,y_pred))\n",
    "cmdf = pd.DataFrame(\n",
    "    confusion_matrix(y_season_test,y_pred),\n",
    "    index = neigh.classes_,\n",
    "    columns = neigh.classes_\n",
    ")\n",
    "\n",
    "sns.heatmap(cmdf,annot=True,cmap=\"Greens\",fmt=\"d\")"
   ]
  },
  {
   "cell_type": "markdown",
   "metadata": {},
   "source": [
    "## 3. Naive Bayes"
   ]
  },
  {
   "cell_type": "code",
   "execution_count": 32,
   "metadata": {},
   "outputs": [
    {
     "name": "stdout",
     "output_type": "stream",
     "text": [
      "0.8870425321463897\n"
     ]
    },
    {
     "data": {
      "text/plain": [
       "<AxesSubplot:>"
      ]
     },
     "execution_count": 32,
     "metadata": {},
     "output_type": "execute_result"
    },
    {
     "data": {
      "image/png": "[encoded data removed]",
      "text/plain": [
       "<Figure size 432x288 with 2 Axes>"
      ]
     },
     "metadata": {
      "needs_background": "light"
     },
     "output_type": "display_data"
    }
   ],
   "source": [
    "from sklearn.naive_bayes import GaussianNB,CategoricalNB,MultinomialNB\n",
    "gnb = MultinomialNB()\n",
    "gnb.fit(X_features_train,y_season_train)\n",
    "y_pred = gnb.predict(X_features_test)\n",
    "\n",
    "print(accuracy_score(y_season_test,y_pred))\n",
    "cmdf = pd.DataFrame(\n",
    "    confusion_matrix(y_season_test,y_pred),\n",
    "    index = gnb.classes_,\n",
    "    columns = gnb.classes_\n",
    ")\n",
    "\n",
    "sns.heatmap(cmdf,annot=True,cmap=\"Greens\",fmt=\"d\")"
   ]
  },
  {
   "cell_type": "code",
   "execution_count": 33,
   "metadata": {},
   "outputs": [],
   "source": [
    "#Save model\n",
    "#"
   ]
  },
  {
   "cell_type": "markdown",
   "metadata": {},
   "source": [
    "## Deep learning model"
   ]
  },
  {
   "cell_type": "code",
   "execution_count": 34,
   "metadata": {},
   "outputs": [
    {
     "data": {
      "text/plain": [
       "(11795,)"
      ]
     },
     "execution_count": 34,
     "metadata": {},
     "output_type": "execute_result"
    }
   ],
   "source": [
    "#Output shape is 4\n",
    "from sklearn.preprocessing import LabelEncoder\n",
    "le = LabelEncoder()\n",
    "y_season_train = le.fit_transform(y_season_train)\n",
    "y_season_train.shape"
   ]
  },
  {
   "cell_type": "code",
   "execution_count": 35,
   "metadata": {},
   "outputs": [],
   "source": [
    "model = Sequential()\n",
    "model.add(tf.keras.Input(shape=(8,)))\n",
    "model.add(Dense(32,activation='relu'))\n",
    "model.add(Dropout(0.2))\n",
    "model.add(Dense(32,activation='relu'))\n",
    "model.add(Dropout(0.2))\n",
    "model.add(Dense(32,activation='relu'))\n",
    "model.add(Dense(4,activation='softmax'))\n",
    "model.compile(optimizer='adam',\n",
    "              loss='sparse_categorical_crossentropy',\n",
    "              metrics=['sparse_categorical_accuracy'])"
   ]
  },
  {
   "cell_type": "code",
   "execution_count": 36,
   "metadata": {
    "collapsed": true,
    "jupyter": {
     "outputs_hidden": true
    }
   },
   "outputs": [
    {
     "name": "stdout",
     "output_type": "stream",
     "text": [
      "Epoch 1/10\n"
     ]
    },
    {
     "ename": "ValueError",
     "evalue": "in user code:\n\n    E:\\Downloads\\AnacondaLatest\\Anaconda\\envs\\tf_gpu\\lib\\site-packages\\tensorflow\\python\\keras\\engine\\training.py:805 train_function  *\n        return step_function(self, iterator)\n    E:\\Downloads\\AnacondaLatest\\Anaconda\\envs\\tf_gpu\\lib\\site-packages\\tensorflow\\python\\keras\\engine\\training.py:795 step_function  **\n        outputs = model.distribute_strategy.run(run_step, args=(data,))\n    E:\\Downloads\\AnacondaLatest\\Anaconda\\envs\\tf_gpu\\lib\\site-packages\\tensorflow\\python\\distribute\\distribute_lib.py:1259 run\n        return self._extended.call_for_each_replica(fn, args=args, kwargs=kwargs)\n    E:\\Downloads\\AnacondaLatest\\Anaconda\\envs\\tf_gpu\\lib\\site-packages\\tensorflow\\python\\distribute\\distribute_lib.py:2730 call_for_each_replica\n        return self._call_for_each_replica(fn, args, kwargs)\n    E:\\Downloads\\AnacondaLatest\\Anaconda\\envs\\tf_gpu\\lib\\site-packages\\tensorflow\\python\\distribute\\distribute_lib.py:3417 _call_for_each_replica\n        return fn(*args, **kwargs)\n    E:\\Downloads\\AnacondaLatest\\Anaconda\\envs\\tf_gpu\\lib\\site-packages\\tensorflow\\python\\keras\\engine\\training.py:788 run_step  **\n        outputs = model.train_step(data)\n    E:\\Downloads\\AnacondaLatest\\Anaconda\\envs\\tf_gpu\\lib\\site-packages\\tensorflow\\python\\keras\\engine\\training.py:754 train_step\n        y_pred = self(x, training=True)\n    E:\\Downloads\\AnacondaLatest\\Anaconda\\envs\\tf_gpu\\lib\\site-packages\\tensorflow\\python\\keras\\engine\\base_layer.py:998 __call__\n        input_spec.assert_input_compatibility(self.input_spec, inputs, self.name)\n    E:\\Downloads\\AnacondaLatest\\Anaconda\\envs\\tf_gpu\\lib\\site-packages\\tensorflow\\python\\keras\\engine\\input_spec.py:259 assert_input_compatibility\n        ' but received input with shape ' + display_shape(x.shape))\n\n    ValueError: Input 0 of layer sequential is incompatible with the layer: expected axis -1 of input shape to have value 8 but received input with shape (None, 11)\n",
     "output_type": "error",
     "traceback": [
      "\u001b[1;31m---------------------------------------------------------------------------\u001b[0m",
      "\u001b[1;31mValueError\u001b[0m                                Traceback (most recent call last)",
      "\u001b[1;32m<ipython-input-36-6a4161683696>\u001b[0m in \u001b[0;36m<module>\u001b[1;34m\u001b[0m\n\u001b[1;32m----> 1\u001b[1;33m \u001b[0mmodel\u001b[0m\u001b[1;33m.\u001b[0m\u001b[0mfit\u001b[0m\u001b[1;33m(\u001b[0m\u001b[0mX_features_train\u001b[0m\u001b[1;33m,\u001b[0m\u001b[0my_season_train\u001b[0m\u001b[1;33m,\u001b[0m\u001b[0mepochs\u001b[0m\u001b[1;33m=\u001b[0m\u001b[1;36m10\u001b[0m\u001b[1;33m)\u001b[0m\u001b[1;33m\u001b[0m\u001b[1;33m\u001b[0m\u001b[0m\n\u001b[0m",
      "\u001b[1;32mE:\\Downloads\\AnacondaLatest\\Anaconda\\envs\\tf_gpu\\lib\\site-packages\\tensorflow\\python\\keras\\engine\\training.py\u001b[0m in \u001b[0;36mfit\u001b[1;34m(self, x, y, batch_size, epochs, verbose, callbacks, validation_split, validation_data, shuffle, class_weight, sample_weight, initial_epoch, steps_per_epoch, validation_steps, validation_batch_size, validation_freq, max_queue_size, workers, use_multiprocessing)\u001b[0m\n\u001b[0;32m   1098\u001b[0m                 _r=1):\n\u001b[0;32m   1099\u001b[0m               \u001b[0mcallbacks\u001b[0m\u001b[1;33m.\u001b[0m\u001b[0mon_train_batch_begin\u001b[0m\u001b[1;33m(\u001b[0m\u001b[0mstep\u001b[0m\u001b[1;33m)\u001b[0m\u001b[1;33m\u001b[0m\u001b[1;33m\u001b[0m\u001b[0m\n\u001b[1;32m-> 1100\u001b[1;33m               \u001b[0mtmp_logs\u001b[0m \u001b[1;33m=\u001b[0m \u001b[0mself\u001b[0m\u001b[1;33m.\u001b[0m\u001b[0mtrain_function\u001b[0m\u001b[1;33m(\u001b[0m\u001b[0miterator\u001b[0m\u001b[1;33m)\u001b[0m\u001b[1;33m\u001b[0m\u001b[1;33m\u001b[0m\u001b[0m\n\u001b[0m\u001b[0;32m   1101\u001b[0m               \u001b[1;32mif\u001b[0m \u001b[0mdata_handler\u001b[0m\u001b[1;33m.\u001b[0m\u001b[0mshould_sync\u001b[0m\u001b[1;33m:\u001b[0m\u001b[1;33m\u001b[0m\u001b[1;33m\u001b[0m\u001b[0m\n\u001b[0;32m   1102\u001b[0m                 \u001b[0mcontext\u001b[0m\u001b[1;33m.\u001b[0m\u001b[0masync_wait\u001b[0m\u001b[1;33m(\u001b[0m\u001b[1;33m)\u001b[0m\u001b[1;33m\u001b[0m\u001b[1;33m\u001b[0m\u001b[0m\n",
      "\u001b[1;32mE:\\Downloads\\AnacondaLatest\\Anaconda\\envs\\tf_gpu\\lib\\site-packages\\tensorflow\\python\\eager\\def_function.py\u001b[0m in \u001b[0;36m__call__\u001b[1;34m(self, *args, **kwds)\u001b[0m\n\u001b[0;32m    826\u001b[0m     \u001b[0mtracing_count\u001b[0m \u001b[1;33m=\u001b[0m \u001b[0mself\u001b[0m\u001b[1;33m.\u001b[0m\u001b[0mexperimental_get_tracing_count\u001b[0m\u001b[1;33m(\u001b[0m\u001b[1;33m)\u001b[0m\u001b[1;33m\u001b[0m\u001b[1;33m\u001b[0m\u001b[0m\n\u001b[0;32m    827\u001b[0m     \u001b[1;32mwith\u001b[0m \u001b[0mtrace\u001b[0m\u001b[1;33m.\u001b[0m\u001b[0mTrace\u001b[0m\u001b[1;33m(\u001b[0m\u001b[0mself\u001b[0m\u001b[1;33m.\u001b[0m\u001b[0m_name\u001b[0m\u001b[1;33m)\u001b[0m \u001b[1;32mas\u001b[0m \u001b[0mtm\u001b[0m\u001b[1;33m:\u001b[0m\u001b[1;33m\u001b[0m\u001b[1;33m\u001b[0m\u001b[0m\n\u001b[1;32m--> 828\u001b[1;33m       \u001b[0mresult\u001b[0m \u001b[1;33m=\u001b[0m \u001b[0mself\u001b[0m\u001b[1;33m.\u001b[0m\u001b[0m_call\u001b[0m\u001b[1;33m(\u001b[0m\u001b[1;33m*\u001b[0m\u001b[0margs\u001b[0m\u001b[1;33m,\u001b[0m \u001b[1;33m**\u001b[0m\u001b[0mkwds\u001b[0m\u001b[1;33m)\u001b[0m\u001b[1;33m\u001b[0m\u001b[1;33m\u001b[0m\u001b[0m\n\u001b[0m\u001b[0;32m    829\u001b[0m       \u001b[0mcompiler\u001b[0m \u001b[1;33m=\u001b[0m \u001b[1;34m\"xla\"\u001b[0m \u001b[1;32mif\u001b[0m \u001b[0mself\u001b[0m\u001b[1;33m.\u001b[0m\u001b[0m_experimental_compile\u001b[0m \u001b[1;32melse\u001b[0m \u001b[1;34m\"nonXla\"\u001b[0m\u001b[1;33m\u001b[0m\u001b[1;33m\u001b[0m\u001b[0m\n\u001b[0;32m    830\u001b[0m       \u001b[0mnew_tracing_count\u001b[0m \u001b[1;33m=\u001b[0m \u001b[0mself\u001b[0m\u001b[1;33m.\u001b[0m\u001b[0mexperimental_get_tracing_count\u001b[0m\u001b[1;33m(\u001b[0m\u001b[1;33m)\u001b[0m\u001b[1;33m\u001b[0m\u001b[1;33m\u001b[0m\u001b[0m\n",
      "\u001b[1;32mE:\\Downloads\\AnacondaLatest\\Anaconda\\envs\\tf_gpu\\lib\\site-packages\\tensorflow\\python\\eager\\def_function.py\u001b[0m in \u001b[0;36m_call\u001b[1;34m(self, *args, **kwds)\u001b[0m\n\u001b[0;32m    869\u001b[0m       \u001b[1;31m# This is the first call of __call__, so we have to initialize.\u001b[0m\u001b[1;33m\u001b[0m\u001b[1;33m\u001b[0m\u001b[1;33m\u001b[0m\u001b[0m\n\u001b[0;32m    870\u001b[0m       \u001b[0minitializers\u001b[0m \u001b[1;33m=\u001b[0m \u001b[1;33m[\u001b[0m\u001b[1;33m]\u001b[0m\u001b[1;33m\u001b[0m\u001b[1;33m\u001b[0m\u001b[0m\n\u001b[1;32m--> 871\u001b[1;33m       \u001b[0mself\u001b[0m\u001b[1;33m.\u001b[0m\u001b[0m_initialize\u001b[0m\u001b[1;33m(\u001b[0m\u001b[0margs\u001b[0m\u001b[1;33m,\u001b[0m \u001b[0mkwds\u001b[0m\u001b[1;33m,\u001b[0m \u001b[0madd_initializers_to\u001b[0m\u001b[1;33m=\u001b[0m\u001b[0minitializers\u001b[0m\u001b[1;33m)\u001b[0m\u001b[1;33m\u001b[0m\u001b[1;33m\u001b[0m\u001b[0m\n\u001b[0m\u001b[0;32m    872\u001b[0m     \u001b[1;32mfinally\u001b[0m\u001b[1;33m:\u001b[0m\u001b[1;33m\u001b[0m\u001b[1;33m\u001b[0m\u001b[0m\n\u001b[0;32m    873\u001b[0m       \u001b[1;31m# At this point we know that the initialization is complete (or less\u001b[0m\u001b[1;33m\u001b[0m\u001b[1;33m\u001b[0m\u001b[1;33m\u001b[0m\u001b[0m\n",
      "\u001b[1;32mE:\\Downloads\\AnacondaLatest\\Anaconda\\envs\\tf_gpu\\lib\\site-packages\\tensorflow\\python\\eager\\def_function.py\u001b[0m in \u001b[0;36m_initialize\u001b[1;34m(self, args, kwds, add_initializers_to)\u001b[0m\n\u001b[0;32m    724\u001b[0m     self._concrete_stateful_fn = (\n\u001b[0;32m    725\u001b[0m         self._stateful_fn._get_concrete_function_internal_garbage_collected(  # pylint: disable=protected-access\n\u001b[1;32m--> 726\u001b[1;33m             *args, **kwds))\n\u001b[0m\u001b[0;32m    727\u001b[0m \u001b[1;33m\u001b[0m\u001b[0m\n\u001b[0;32m    728\u001b[0m     \u001b[1;32mdef\u001b[0m \u001b[0minvalid_creator_scope\u001b[0m\u001b[1;33m(\u001b[0m\u001b[1;33m*\u001b[0m\u001b[0munused_args\u001b[0m\u001b[1;33m,\u001b[0m \u001b[1;33m**\u001b[0m\u001b[0munused_kwds\u001b[0m\u001b[1;33m)\u001b[0m\u001b[1;33m:\u001b[0m\u001b[1;33m\u001b[0m\u001b[1;33m\u001b[0m\u001b[0m\n",
      "\u001b[1;32mE:\\Downloads\\AnacondaLatest\\Anaconda\\envs\\tf_gpu\\lib\\site-packages\\tensorflow\\python\\eager\\function.py\u001b[0m in \u001b[0;36m_get_concrete_function_internal_garbage_collected\u001b[1;34m(self, *args, **kwargs)\u001b[0m\n\u001b[0;32m   2967\u001b[0m       \u001b[0margs\u001b[0m\u001b[1;33m,\u001b[0m \u001b[0mkwargs\u001b[0m \u001b[1;33m=\u001b[0m \u001b[1;32mNone\u001b[0m\u001b[1;33m,\u001b[0m \u001b[1;32mNone\u001b[0m\u001b[1;33m\u001b[0m\u001b[1;33m\u001b[0m\u001b[0m\n\u001b[0;32m   2968\u001b[0m     \u001b[1;32mwith\u001b[0m \u001b[0mself\u001b[0m\u001b[1;33m.\u001b[0m\u001b[0m_lock\u001b[0m\u001b[1;33m:\u001b[0m\u001b[1;33m\u001b[0m\u001b[1;33m\u001b[0m\u001b[0m\n\u001b[1;32m-> 2969\u001b[1;33m       \u001b[0mgraph_function\u001b[0m\u001b[1;33m,\u001b[0m \u001b[0m_\u001b[0m \u001b[1;33m=\u001b[0m \u001b[0mself\u001b[0m\u001b[1;33m.\u001b[0m\u001b[0m_maybe_define_function\u001b[0m\u001b[1;33m(\u001b[0m\u001b[0margs\u001b[0m\u001b[1;33m,\u001b[0m \u001b[0mkwargs\u001b[0m\u001b[1;33m)\u001b[0m\u001b[1;33m\u001b[0m\u001b[1;33m\u001b[0m\u001b[0m\n\u001b[0m\u001b[0;32m   2970\u001b[0m     \u001b[1;32mreturn\u001b[0m \u001b[0mgraph_function\u001b[0m\u001b[1;33m\u001b[0m\u001b[1;33m\u001b[0m\u001b[0m\n\u001b[0;32m   2971\u001b[0m \u001b[1;33m\u001b[0m\u001b[0m\n",
      "\u001b[1;32mE:\\Downloads\\AnacondaLatest\\Anaconda\\envs\\tf_gpu\\lib\\site-packages\\tensorflow\\python\\eager\\function.py\u001b[0m in \u001b[0;36m_maybe_define_function\u001b[1;34m(self, args, kwargs)\u001b[0m\n\u001b[0;32m   3359\u001b[0m \u001b[1;33m\u001b[0m\u001b[0m\n\u001b[0;32m   3360\u001b[0m           \u001b[0mself\u001b[0m\u001b[1;33m.\u001b[0m\u001b[0m_function_cache\u001b[0m\u001b[1;33m.\u001b[0m\u001b[0mmissed\u001b[0m\u001b[1;33m.\u001b[0m\u001b[0madd\u001b[0m\u001b[1;33m(\u001b[0m\u001b[0mcall_context_key\u001b[0m\u001b[1;33m)\u001b[0m\u001b[1;33m\u001b[0m\u001b[1;33m\u001b[0m\u001b[0m\n\u001b[1;32m-> 3361\u001b[1;33m           \u001b[0mgraph_function\u001b[0m \u001b[1;33m=\u001b[0m \u001b[0mself\u001b[0m\u001b[1;33m.\u001b[0m\u001b[0m_create_graph_function\u001b[0m\u001b[1;33m(\u001b[0m\u001b[0margs\u001b[0m\u001b[1;33m,\u001b[0m \u001b[0mkwargs\u001b[0m\u001b[1;33m)\u001b[0m\u001b[1;33m\u001b[0m\u001b[1;33m\u001b[0m\u001b[0m\n\u001b[0m\u001b[0;32m   3362\u001b[0m           \u001b[0mself\u001b[0m\u001b[1;33m.\u001b[0m\u001b[0m_function_cache\u001b[0m\u001b[1;33m.\u001b[0m\u001b[0mprimary\u001b[0m\u001b[1;33m[\u001b[0m\u001b[0mcache_key\u001b[0m\u001b[1;33m]\u001b[0m \u001b[1;33m=\u001b[0m \u001b[0mgraph_function\u001b[0m\u001b[1;33m\u001b[0m\u001b[1;33m\u001b[0m\u001b[0m\n\u001b[0;32m   3363\u001b[0m \u001b[1;33m\u001b[0m\u001b[0m\n",
      "\u001b[1;32mE:\\Downloads\\AnacondaLatest\\Anaconda\\envs\\tf_gpu\\lib\\site-packages\\tensorflow\\python\\eager\\function.py\u001b[0m in \u001b[0;36m_create_graph_function\u001b[1;34m(self, args, kwargs, override_flat_arg_shapes)\u001b[0m\n\u001b[0;32m   3204\u001b[0m             \u001b[0marg_names\u001b[0m\u001b[1;33m=\u001b[0m\u001b[0marg_names\u001b[0m\u001b[1;33m,\u001b[0m\u001b[1;33m\u001b[0m\u001b[1;33m\u001b[0m\u001b[0m\n\u001b[0;32m   3205\u001b[0m             \u001b[0moverride_flat_arg_shapes\u001b[0m\u001b[1;33m=\u001b[0m\u001b[0moverride_flat_arg_shapes\u001b[0m\u001b[1;33m,\u001b[0m\u001b[1;33m\u001b[0m\u001b[1;33m\u001b[0m\u001b[0m\n\u001b[1;32m-> 3206\u001b[1;33m             capture_by_value=self._capture_by_value),\n\u001b[0m\u001b[0;32m   3207\u001b[0m         \u001b[0mself\u001b[0m\u001b[1;33m.\u001b[0m\u001b[0m_function_attributes\u001b[0m\u001b[1;33m,\u001b[0m\u001b[1;33m\u001b[0m\u001b[1;33m\u001b[0m\u001b[0m\n\u001b[0;32m   3208\u001b[0m         \u001b[0mfunction_spec\u001b[0m\u001b[1;33m=\u001b[0m\u001b[0mself\u001b[0m\u001b[1;33m.\u001b[0m\u001b[0mfunction_spec\u001b[0m\u001b[1;33m,\u001b[0m\u001b[1;33m\u001b[0m\u001b[1;33m\u001b[0m\u001b[0m\n",
      "\u001b[1;32mE:\\Downloads\\AnacondaLatest\\Anaconda\\envs\\tf_gpu\\lib\\site-packages\\tensorflow\\python\\framework\\func_graph.py\u001b[0m in \u001b[0;36mfunc_graph_from_py_func\u001b[1;34m(name, python_func, args, kwargs, signature, func_graph, autograph, autograph_options, add_control_dependencies, arg_names, op_return_value, collections, capture_by_value, override_flat_arg_shapes)\u001b[0m\n\u001b[0;32m    988\u001b[0m         \u001b[0m_\u001b[0m\u001b[1;33m,\u001b[0m \u001b[0moriginal_func\u001b[0m \u001b[1;33m=\u001b[0m \u001b[0mtf_decorator\u001b[0m\u001b[1;33m.\u001b[0m\u001b[0munwrap\u001b[0m\u001b[1;33m(\u001b[0m\u001b[0mpython_func\u001b[0m\u001b[1;33m)\u001b[0m\u001b[1;33m\u001b[0m\u001b[1;33m\u001b[0m\u001b[0m\n\u001b[0;32m    989\u001b[0m \u001b[1;33m\u001b[0m\u001b[0m\n\u001b[1;32m--> 990\u001b[1;33m       \u001b[0mfunc_outputs\u001b[0m \u001b[1;33m=\u001b[0m \u001b[0mpython_func\u001b[0m\u001b[1;33m(\u001b[0m\u001b[1;33m*\u001b[0m\u001b[0mfunc_args\u001b[0m\u001b[1;33m,\u001b[0m \u001b[1;33m**\u001b[0m\u001b[0mfunc_kwargs\u001b[0m\u001b[1;33m)\u001b[0m\u001b[1;33m\u001b[0m\u001b[1;33m\u001b[0m\u001b[0m\n\u001b[0m\u001b[0;32m    991\u001b[0m \u001b[1;33m\u001b[0m\u001b[0m\n\u001b[0;32m    992\u001b[0m       \u001b[1;31m# invariant: `func_outputs` contains only Tensors, CompositeTensors,\u001b[0m\u001b[1;33m\u001b[0m\u001b[1;33m\u001b[0m\u001b[1;33m\u001b[0m\u001b[0m\n",
      "\u001b[1;32mE:\\Downloads\\AnacondaLatest\\Anaconda\\envs\\tf_gpu\\lib\\site-packages\\tensorflow\\python\\eager\\def_function.py\u001b[0m in \u001b[0;36mwrapped_fn\u001b[1;34m(*args, **kwds)\u001b[0m\n\u001b[0;32m    632\u001b[0m             \u001b[0mxla_context\u001b[0m\u001b[1;33m.\u001b[0m\u001b[0mExit\u001b[0m\u001b[1;33m(\u001b[0m\u001b[1;33m)\u001b[0m\u001b[1;33m\u001b[0m\u001b[1;33m\u001b[0m\u001b[0m\n\u001b[0;32m    633\u001b[0m         \u001b[1;32melse\u001b[0m\u001b[1;33m:\u001b[0m\u001b[1;33m\u001b[0m\u001b[1;33m\u001b[0m\u001b[0m\n\u001b[1;32m--> 634\u001b[1;33m           \u001b[0mout\u001b[0m \u001b[1;33m=\u001b[0m \u001b[0mweak_wrapped_fn\u001b[0m\u001b[1;33m(\u001b[0m\u001b[1;33m)\u001b[0m\u001b[1;33m.\u001b[0m\u001b[0m__wrapped__\u001b[0m\u001b[1;33m(\u001b[0m\u001b[1;33m*\u001b[0m\u001b[0margs\u001b[0m\u001b[1;33m,\u001b[0m \u001b[1;33m**\u001b[0m\u001b[0mkwds\u001b[0m\u001b[1;33m)\u001b[0m\u001b[1;33m\u001b[0m\u001b[1;33m\u001b[0m\u001b[0m\n\u001b[0m\u001b[0;32m    635\u001b[0m         \u001b[1;32mreturn\u001b[0m \u001b[0mout\u001b[0m\u001b[1;33m\u001b[0m\u001b[1;33m\u001b[0m\u001b[0m\n\u001b[0;32m    636\u001b[0m \u001b[1;33m\u001b[0m\u001b[0m\n",
      "\u001b[1;32mE:\\Downloads\\AnacondaLatest\\Anaconda\\envs\\tf_gpu\\lib\\site-packages\\tensorflow\\python\\framework\\func_graph.py\u001b[0m in \u001b[0;36mwrapper\u001b[1;34m(*args, **kwargs)\u001b[0m\n\u001b[0;32m    975\u001b[0m           \u001b[1;32mexcept\u001b[0m \u001b[0mException\u001b[0m \u001b[1;32mas\u001b[0m \u001b[0me\u001b[0m\u001b[1;33m:\u001b[0m  \u001b[1;31m# pylint:disable=broad-except\u001b[0m\u001b[1;33m\u001b[0m\u001b[1;33m\u001b[0m\u001b[0m\n\u001b[0;32m    976\u001b[0m             \u001b[1;32mif\u001b[0m \u001b[0mhasattr\u001b[0m\u001b[1;33m(\u001b[0m\u001b[0me\u001b[0m\u001b[1;33m,\u001b[0m \u001b[1;34m\"ag_error_metadata\"\u001b[0m\u001b[1;33m)\u001b[0m\u001b[1;33m:\u001b[0m\u001b[1;33m\u001b[0m\u001b[1;33m\u001b[0m\u001b[0m\n\u001b[1;32m--> 977\u001b[1;33m               \u001b[1;32mraise\u001b[0m \u001b[0me\u001b[0m\u001b[1;33m.\u001b[0m\u001b[0mag_error_metadata\u001b[0m\u001b[1;33m.\u001b[0m\u001b[0mto_exception\u001b[0m\u001b[1;33m(\u001b[0m\u001b[0me\u001b[0m\u001b[1;33m)\u001b[0m\u001b[1;33m\u001b[0m\u001b[1;33m\u001b[0m\u001b[0m\n\u001b[0m\u001b[0;32m    978\u001b[0m             \u001b[1;32melse\u001b[0m\u001b[1;33m:\u001b[0m\u001b[1;33m\u001b[0m\u001b[1;33m\u001b[0m\u001b[0m\n\u001b[0;32m    979\u001b[0m               \u001b[1;32mraise\u001b[0m\u001b[1;33m\u001b[0m\u001b[1;33m\u001b[0m\u001b[0m\n",
      "\u001b[1;31mValueError\u001b[0m: in user code:\n\n    E:\\Downloads\\AnacondaLatest\\Anaconda\\envs\\tf_gpu\\lib\\site-packages\\tensorflow\\python\\keras\\engine\\training.py:805 train_function  *\n        return step_function(self, iterator)\n    E:\\Downloads\\AnacondaLatest\\Anaconda\\envs\\tf_gpu\\lib\\site-packages\\tensorflow\\python\\keras\\engine\\training.py:795 step_function  **\n        outputs = model.distribute_strategy.run(run_step, args=(data,))\n    E:\\Downloads\\AnacondaLatest\\Anaconda\\envs\\tf_gpu\\lib\\site-packages\\tensorflow\\python\\distribute\\distribute_lib.py:1259 run\n        return self._extended.call_for_each_replica(fn, args=args, kwargs=kwargs)\n    E:\\Downloads\\AnacondaLatest\\Anaconda\\envs\\tf_gpu\\lib\\site-packages\\tensorflow\\python\\distribute\\distribute_lib.py:2730 call_for_each_replica\n        return self._call_for_each_replica(fn, args, kwargs)\n    E:\\Downloads\\AnacondaLatest\\Anaconda\\envs\\tf_gpu\\lib\\site-packages\\tensorflow\\python\\distribute\\distribute_lib.py:3417 _call_for_each_replica\n        return fn(*args, **kwargs)\n    E:\\Downloads\\AnacondaLatest\\Anaconda\\envs\\tf_gpu\\lib\\site-packages\\tensorflow\\python\\keras\\engine\\training.py:788 run_step  **\n        outputs = model.train_step(data)\n    E:\\Downloads\\AnacondaLatest\\Anaconda\\envs\\tf_gpu\\lib\\site-packages\\tensorflow\\python\\keras\\engine\\training.py:754 train_step\n        y_pred = self(x, training=True)\n    E:\\Downloads\\AnacondaLatest\\Anaconda\\envs\\tf_gpu\\lib\\site-packages\\tensorflow\\python\\keras\\engine\\base_layer.py:998 __call__\n        input_spec.assert_input_compatibility(self.input_spec, inputs, self.name)\n    E:\\Downloads\\AnacondaLatest\\Anaconda\\envs\\tf_gpu\\lib\\site-packages\\tensorflow\\python\\keras\\engine\\input_spec.py:259 assert_input_compatibility\n        ' but received input with shape ' + display_shape(x.shape))\n\n    ValueError: Input 0 of layer sequential is incompatible with the layer: expected axis -1 of input shape to have value 8 but received input with shape (None, 11)\n"
     ]
    }
   ],
   "source": [
    "model.fit(X_features_train,y_season_train,epochs=10)"
   ]
  },
  {
   "cell_type": "code",
   "execution_count": null,
   "metadata": {},
   "outputs": [],
   "source": [
    "y_pred = model.predict(X_features_test)\n",
    "y_pred = np.argmax(y_pred,axis=-1)\n",
    "\n",
    "le = LabelEncoder()\n",
    "y_test_labels = le.fit_transform(y_season_test)\n",
    "accuracy_score(y_test_labels,y_pred)"
   ]
  },
  {
   "cell_type": "code",
   "execution_count": null,
   "metadata": {},
   "outputs": [],
   "source": [
    "cm = confusion_matrix(y_test_labels,y_pred)\n",
    "cm_df = pd.DataFrame(cm)\n",
    "cm_df.columns = le.classes_\n",
    "cm_df.index = le.classes_\n",
    "sns.heatmap(cm_df,annot=True,fmt=\"d\",cmap=\"Greens\")"
   ]
  },
  {
   "cell_type": "markdown",
   "metadata": {},
   "source": [
    "## 2. Class weights"
   ]
  },
  {
   "cell_type": "code",
   "execution_count": null,
   "metadata": {},
   "outputs": [],
   "source": [
    "genderLB = LabelBinarizer()"
   ]
  },
  {
   "cell_type": "code",
   "execution_count": null,
   "metadata": {},
   "outputs": [],
   "source": [
    "genderOHE = genderLB.fit_transform(df_req['gender'])\n",
    "y_integers = np.argmax(genderOHE, axis=1)\n",
    "class_weights = compute_class_weight('balanced', classes = np.unique(y_integers), y=y_integers)\n",
    "d_class_weights = dict(enumerate(class_weights))\n",
    "d_class_weights"
   ]
  },
  {
   "cell_type": "code",
   "execution_count": 39,
   "metadata": {},
   "outputs": [],
   "source": [
    "### Store image paths\n",
    "img_folder_path = \"../Dataset/archive/images/\"\n",
    "df_req['img_paths'] = df_req['id'].apply(lambda x:img_folder_path+str(x)+'.jpg')"
   ]
  },
  {
   "cell_type": "code",
   "execution_count": 40,
   "metadata": {},
   "outputs": [
    {
     "name": "stderr",
     "output_type": "stream",
     "text": [
      "16850it [01:11, 235.22it/s] \n"
     ]
    },
    {
     "data": {
      "text/plain": [
       "[39403, 39410, 39425]"
      ]
     },
     "execution_count": 40,
     "metadata": {},
     "output_type": "execute_result"
    }
   ],
   "source": [
    "IMAGE_DIMS = (60, 60, 3)\n",
    "from tqdm import tqdm\n",
    "import os\n",
    "def load_image(imagePath):\n",
    "    image = cv2.imread(imagePath)\n",
    "    image = cv2.resize(image, (IMAGE_DIMS[1], IMAGE_DIMS[0]))\n",
    "    image = cv2.cvtColor(image, cv2.COLOR_BGR2RGB)\n",
    "    image = preprocess_input(image)\n",
    "    return image\n",
    "\n",
    "image_ids = df_req['img_paths']\n",
    "\n",
    "image_data = []\n",
    "non_included_ids = []\n",
    "\n",
    "for img_path,i in tqdm(zip(image_ids,df_req['id'])):\n",
    "    if not os.path.exists(img_path):\n",
    "        non_included_ids.append(i)\n",
    "    else:\n",
    "        continue\n",
    "#     try:\n",
    "#         image_data.append(load_image(img_path))\n",
    "#     except:\n",
    "#         non_included_ids.append(i)\n",
    "#         continue\n",
    "    \n",
    "# image_data = np.array(image_data, dtype=\"float\")\n",
    "# len(image_data)\n",
    "non_included_ids"
   ]
  },
  {
   "cell_type": "code",
   "execution_count": 41,
   "metadata": {},
   "outputs": [],
   "source": [
    "non_included_ids = [39403, 39410, 39425]"
   ]
  },
  {
   "cell_type": "code",
   "execution_count": 31,
   "metadata": {},
   "outputs": [],
   "source": [
    "# from numpy import save\n",
    "# save(\"../Dataset/archive/image_data.npy\",image_data)"
   ]
  },
  {
   "cell_type": "markdown",
   "metadata": {},
   "source": [
    "# Individual models for each  tag"
   ]
  },
  {
   "cell_type": "code",
   "execution_count": null,
   "metadata": {},
   "outputs": [],
   "source": [
    "def create_model():\n",
    "    model = models.Sequential()\n",
    "    model.add(layers.Conv2D(32, (3, 3), activation='relu', input_shape=(60, 60, 3)))\n",
    "    model.add(layers.MaxPooling2D((2, 2)))\n",
    "    model.add(layers.Conv2D(64, (3, 3), activation='relu'))\n",
    "    model.add(layers.MaxPooling2D((2, 2)))\n",
    "    model.add(layers.Conv2D(64, (3, 3), activation='relu'))\n",
    "\n",
    "    model.add(layers.Flatten())\n",
    "    model.add(layers.Dense(64, activation='relu'))\n",
    "    model.add(layers.Dense(3,activation='softmax'))\n",
    "\n",
    "    model.summary()\n",
    "\n",
    "    model.compile(optimizer='adam',\n",
    "                  loss=tf.keras.losses.CategoricalCrossentropy(),\n",
    "                  metrics=['accuracy'])\n",
    "    \n",
    "    return model"
   ]
  },
  {
   "cell_type": "code",
   "execution_count": 42,
   "metadata": {},
   "outputs": [],
   "source": [
    "df_req = df_req[~df_req['id'].isin(non_included_ids)]"
   ]
  },
  {
   "cell_type": "code",
   "execution_count": null,
   "metadata": {},
   "outputs": [],
   "source": [
    "genderOHE = genderLB.fit_transform(df_req['gender'])\n",
    "y_integers = np.argmax(genderOHE, axis=1)\n",
    "class_weights = compute_class_weight('balanced', classes = np.unique(y_integers), y=y_integers)\n",
    "d_class_weights = dict(enumerate(class_weights))"
   ]
  },
  {
   "cell_type": "code",
   "execution_count": null,
   "metadata": {},
   "outputs": [],
   "source": [
    "train_images = image_data[:14000]\n",
    "test_images = image_data[14000:]"
   ]
  },
  {
   "cell_type": "code",
   "execution_count": null,
   "metadata": {},
   "outputs": [],
   "source": [
    "train_labels = genderOHE[:14000]\n",
    "test_labels = genderOHE[14000:]"
   ]
  },
  {
   "cell_type": "code",
   "execution_count": null,
   "metadata": {},
   "outputs": [],
   "source": [
    "model = create_model()\n",
    "history = model.fit(train_images, train_labels, epochs=10,validation_data=(test_images, test_labels),class_weight=d_class_weights)"
   ]
  },
  {
   "cell_type": "code",
   "execution_count": null,
   "metadata": {},
   "outputs": [],
   "source": [
    "from sklearn.metrics import confusion_matrix\n",
    "model1 = tf.keras.models.load_model(\"./gender_class_wghts_0.758_val.h5\")\n",
    "model2 = tf.keras.models.load_model(\"./gender_0.90_val.h5\")\n",
    "test_pred_ohe1 = model1.predict(test_images)\n",
    "test_pred_integers1 = np.argmax(test_pred_ohe1,axis=1)\n",
    "\n",
    "test_pred_ohe2 = model2.predict(test_images)\n",
    "test_pred_integers2 = np.argmax(test_pred_ohe2,axis=1)\n",
    "\n",
    "test_act_integers = np.argmax(test_labels,axis=1)\n",
    "cm1 = confusion_matrix(y_true=test_act_integers,y_pred=test_pred_integers1)\n",
    "cm2 = confusion_matrix(y_true=test_act_integers,y_pred=test_pred_integers2)"
   ]
  },
  {
   "cell_type": "code",
   "execution_count": null,
   "metadata": {},
   "outputs": [],
   "source": [
    "genderCM1 = pd.DataFrame(cm1)\n",
    "genderCM1.index = genderLB.classes_\n",
    "genderCM1.columns = genderLB.classes_\n",
    "\n",
    "sns.heatmap(genderCM1,annot=True,fmt=\"d\",cmap=\"Greens\")\n",
    "plt.show()\n",
    "\n",
    "genderCM2 = pd.DataFrame(cm2)\n",
    "genderCM2.index = genderLB.classes_\n",
    "genderCM2.columns = genderLB.classes_\n",
    "\n",
    "sns.heatmap(genderCM2,annot=True,fmt=\"d\",cmap=\"Greens\")\n",
    "plt.show()"
   ]
  },
  {
   "cell_type": "markdown",
   "metadata": {},
   "source": [
    "# Branch based Model"
   ]
  },
  {
   "cell_type": "code",
   "execution_count": 43,
   "metadata": {},
   "outputs": [],
   "source": [
    "from numpy import load\n",
    "image_data = load(\"../Dataset/archive/image_data.npy\")"
   ]
  },
  {
   "cell_type": "code",
   "execution_count": 44,
   "metadata": {},
   "outputs": [],
   "source": [
    "def make_branch(res_input, n_out, act_type, name):\n",
    "    z = Dense(512, activation=\"relu\")(res_input)\n",
    "    z = Dropout(0.3)(z)\n",
    "    z = Dense(256, activation='relu')(z)\n",
    "    z = Dense(128, activation='relu')(z)\n",
    "#     z = BatchNormalization()(z)\n",
    "#     z = Dropout(0.5)(z)\n",
    "    z = Dense(n_out)(z)\n",
    "    z = Activation(act_type, name=name+'_output')(z)\n",
    "    return z"
   ]
  },
  {
   "cell_type": "code",
   "execution_count": 53,
   "metadata": {},
   "outputs": [],
   "source": [
    "masterCategoryLB = LabelBinarizer()\n",
    "subCategoryLB = LabelBinarizer()\n",
    "articleTypeLB = LabelBinarizer()\n",
    "seasonLB = LabelBinarizer()\n",
    "usageLB = LabelBinarizer()\n",
    "genderLB = LabelBinarizer()\n",
    "\n",
    "masterCategoryLabels = masterCategoryLB.fit_transform(np.array(df_req['masterCategory'].values))\n",
    "subCategoryLabels = subCategoryLB.fit_transform(np.array(df_req['subCategory'].values))\n",
    "articleTypeLabels = articleTypeLB.fit_transform(np.array(df_req['articleType'].values))\n",
    "seasonLabels = seasonLB.fit_transform(np.array(df_req['season'].values))\n",
    "usageLabels = usageLB.fit_transform(np.array(df_req['usage'].values))\n",
    "genderLabels = genderLB.fit_transform(np.array(df_req['gender'].values))\n",
    "\n",
    "split = train_test_split(image_data,\n",
    "                         masterCategoryLabels, \n",
    "                         subCategoryLabels, \n",
    "                         articleTypeLabels, \n",
    "                         seasonLabels, \n",
    "                         usageLabels,\n",
    "                         genderLabels,\n",
    "                         test_size=0.2, random_state=42)\n",
    "\n",
    "(trainX, testX,\n",
    " trainMasterCategoryY, testMasterCategoryY,\n",
    " trainSubCategoryY, testSubCategoryY,\n",
    " trainArticleTypeY, testArticleTypeY,\n",
    " trainSeasonY, testSeasonY,\n",
    " trainUsageY, testUsageY,\n",
    " trainGenderY, testgenderY) = split"
   ]
  },
  {
   "cell_type": "code",
   "execution_count": 58,
   "metadata": {},
   "outputs": [
    {
     "data": {
      "text/plain": [
       "array([[0, 0, 1],\n",
       "       [1, 0, 0],\n",
       "       [1, 0, 0],\n",
       "       ...,\n",
       "       [1, 0, 0],\n",
       "       [1, 0, 0],\n",
       "       [0, 0, 1]])"
      ]
     },
     "execution_count": 58,
     "metadata": {},
     "output_type": "execute_result"
    }
   ],
   "source": [
    "testGenderY"
   ]
  },
  {
   "cell_type": "code",
   "execution_count": 46,
   "metadata": {},
   "outputs": [],
   "source": [
    "def build_model(width, height):\n",
    "\n",
    "    # -------------------------\n",
    "    res50 = ResNet50(weights='imagenet', include_top=False, input_shape=IMAGE_DIMS)\n",
    "    res50.trainable=False\n",
    "    inputs = Input(shape=IMAGE_DIMS)\n",
    "    x = res50(inputs, training=False)\n",
    "    x = Flatten()(x)\n",
    "    x = Dense(1024, activation='relu')(x)\n",
    "    # -------------------------\n",
    "\n",
    "    masterCategory_branch = make_branch(x, len(masterCategoryLB.classes_), 'softmax', 'masterCategory')\n",
    "    subCategory_branch = make_branch(x, len(subCategoryLB.classes_), 'softmax', 'subCategory')\n",
    "    articleType_branch = make_branch(x, len(articleTypeLB.classes_), 'softmax', 'articleType')\n",
    "    season_branch = make_branch(x, len(seasonLB.classes_), 'softmax', 'season')\n",
    "    usage_branch = make_branch(x, len(usageLB.classes_), 'softmax', 'usage')\n",
    "    gender_branch = make_branch(x, len(genderLB.classes_),'softmax','gender')\n",
    "\n",
    "    model = Model(inputs=inputs,\n",
    "                outputs=[masterCategory_branch, subCategory_branch, articleType_branch, \n",
    "                            season_branch, usage_branch,gender_branch])\n",
    "    return model"
   ]
  },
  {
   "cell_type": "code",
   "execution_count": 59,
   "metadata": {},
   "outputs": [],
   "source": [
    "model = build_model(60, 60)\n",
    "\n",
    "losses = {\n",
    "    \"masterCategory_output\": \"categorical_crossentropy\",\n",
    "    \"subCategory_output\": \"categorical_crossentropy\",\n",
    "    \"articleType_output\": \"categorical_crossentropy\",\n",
    "    \"season_output\": \"categorical_crossentropy\",\n",
    "    \"usage_output\": \"categorical_crossentropy\",\n",
    "    \"gender_output\": \"binary_crossentropy\",\n",
    "}\n",
    "\n",
    "EPOCHS = 25\n",
    "INIT_LR = 1e-5\n",
    "BS = 32\n",
    "\n",
    "opt = Adam(lr=INIT_LR, decay=INIT_LR / EPOCHS)\n",
    "model.compile(optimizer=opt, loss=losses, metrics=[\"accuracy\"])"
   ]
  },
  {
   "cell_type": "code",
   "execution_count": 51,
   "metadata": {},
   "outputs": [
    {
     "name": "stdout",
     "output_type": "stream",
     "text": [
      "('Failed to import pydot. You must `pip install pydot` and install graphviz (https://graphviz.gitlab.io/download/), ', 'for `pydotprint` to work.')\n"
     ]
    }
   ],
   "source": [
    "from tensorflow.keras.utils import plot_model\n",
    "plot_model(model)"
   ]
  },
  {
   "cell_type": "code",
   "execution_count": 60,
   "metadata": {},
   "outputs": [
    {
     "name": "stdout",
     "output_type": "stream",
     "text": [
      "Epoch 1/10\n",
      "422/422 [==============================] - 57s 77ms/step - loss: 4.5229 - masterCategory_output_loss: 0.3560 - subCategory_output_loss: 0.4905 - articleType_output_loss: 1.0190 - season_output_loss: 1.1527 - usage_output_loss: 0.9196 - gender_output_loss: 0.5851 - masterCategory_output_accuracy: 0.8582 - subCategory_output_accuracy: 0.8070 - articleType_output_accuracy: 0.6026 - season_output_accuracy: 0.4913 - usage_output_accuracy: 0.6992 - gender_output_accuracy: 0.6253 - val_loss: 1.8886 - val_masterCategory_output_loss: 0.0280 - val_subCategory_output_loss: 0.0314 - val_articleType_output_loss: 0.3195 - val_season_output_loss: 0.7832 - val_usage_output_loss: 0.4309 - val_gender_output_loss: 0.2956 - val_masterCategory_output_accuracy: 0.9938 - val_subCategory_output_accuracy: 0.9926 - val_articleType_output_accuracy: 0.8668 - val_season_output_accuracy: 0.6490 - val_usage_output_accuracy: 0.8332 - val_gender_output_accuracy: 0.8116 5.5658 - masterCategory_output_loss: 0.4952 - subCategory_output_loss: 0.6965 - articleType_output_loss: 1.2670 - season_output_loss: 1.2765 - usage_output_loss: 1.1194 - gender_output_l\n",
      "Epoch 2/10\n",
      "422/422 [==============================] - 29s 69ms/step - loss: 1.9941 - masterCategory_output_loss: 0.0361 - subCategory_output_loss: 0.0430 - articleType_output_loss: 0.3525 - season_output_loss: 0.8006 - usage_output_loss: 0.4634 - gender_output_loss: 0.2984 - masterCategory_output_accuracy: 0.9899 - subCategory_output_accuracy: 0.9875 - articleType_output_accuracy: 0.8512 - season_output_accuracy: 0.6309 - usage_output_accuracy: 0.8256 - gender_output_accuracy: 0.8237 - val_loss: 1.6740 - val_masterCategory_output_loss: 0.0172 - val_subCategory_output_loss: 0.0184 - val_articleType_output_loss: 0.2583 - val_season_output_loss: 0.7474 - val_usage_output_loss: 0.3802 - val_gender_output_loss: 0.2524 - val_masterCategory_output_accuracy: 0.9953 - val_subCategory_output_accuracy: 0.9953 - val_articleType_output_accuracy: 0.8875 - val_season_output_accuracy: 0.6721 - val_usage_output_accuracy: 0.8507 - val_gender_output_accuracy: 0.8504\n",
      "Epoch 3/10\n",
      "422/422 [==============================] - 29s 69ms/step - loss: 1.7054 - masterCategory_output_loss: 0.0219 - subCategory_output_loss: 0.0217 - articleType_output_loss: 0.2750 - season_output_loss: 0.7405 - usage_output_loss: 0.3900 - gender_output_loss: 0.2563 - masterCategory_output_accuracy: 0.9943 - subCategory_output_accuracy: 0.9949 - articleType_output_accuracy: 0.8851 - season_output_accuracy: 0.6655 - usage_output_accuracy: 0.8499 - gender_output_accuracy: 0.8509 - val_loss: 1.5849 - val_masterCategory_output_loss: 0.0133 - val_subCategory_output_loss: 0.0142 - val_articleType_output_loss: 0.2341 - val_season_output_loss: 0.7303 - val_usage_output_loss: 0.3641 - val_gender_output_loss: 0.2288 - val_masterCategory_output_accuracy: 0.9967 - val_subCategory_output_accuracy: 0.9976 - val_articleType_output_accuracy: 0.8941 - val_season_output_accuracy: 0.6798 - val_usage_output_accuracy: 0.8573 - val_gender_output_accuracy: 0.8638\n",
      "Epoch 4/10\n",
      "422/422 [==============================] - 29s 70ms/step - loss: 1.5368 - masterCategory_output_loss: 0.0143 - subCategory_output_loss: 0.0154 - articleType_output_loss: 0.2345 - season_output_loss: 0.6939 - usage_output_loss: 0.3500 - gender_output_loss: 0.2287 - masterCategory_output_accuracy: 0.9963 - subCategory_output_accuracy: 0.9962 - articleType_output_accuracy: 0.9019 - season_output_accuracy: 0.6980 - usage_output_accuracy: 0.8680 - gender_output_accuracy: 0.8697 - val_loss: 1.5207 - val_masterCategory_output_loss: 0.0124 - val_subCategory_output_loss: 0.0125 - val_articleType_output_loss: 0.2205 - val_season_output_loss: 0.7137 - val_usage_output_loss: 0.3489 - val_gender_output_loss: 0.2127 - val_masterCategory_output_accuracy: 0.9970 - val_subCategory_output_accuracy: 0.9970 - val_articleType_output_accuracy: 0.9068 - val_season_output_accuracy: 0.6905 - val_usage_output_accuracy: 0.8641 - val_gender_output_accuracy: 0.8760\n",
      "Epoch 5/10\n",
      "422/422 [==============================] - 29s 70ms/step - loss: 1.4639 - masterCategory_output_loss: 0.0158 - subCategory_output_loss: 0.0180 - articleType_output_loss: 0.2106 - season_output_loss: 0.6747 - usage_output_loss: 0.3322 - gender_output_loss: 0.2127 - masterCategory_output_accuracy: 0.9972 - subCategory_output_accuracy: 0.9963 - articleType_output_accuracy: 0.9150 - season_output_accuracy: 0.7094 - usage_output_accuracy: 0.8699 - gender_output_accuracy: 0.8788 - val_loss: 1.4714 - val_masterCategory_output_loss: 0.0110 - val_subCategory_output_loss: 0.0115 - val_articleType_output_loss: 0.2100 - val_season_output_loss: 0.7015 - val_usage_output_loss: 0.3385 - val_gender_output_loss: 0.1989 - val_masterCategory_output_accuracy: 0.9976 - val_subCategory_output_accuracy: 0.9979 - val_articleType_output_accuracy: 0.9086 - val_season_output_accuracy: 0.7006 - val_usage_output_accuracy: 0.8677 - val_gender_output_accuracy: 0.8855\n",
      "Epoch 6/10\n",
      "422/422 [==============================] - 29s 70ms/step - loss: 1.3513 - masterCategory_output_loss: 0.0076 - subCategory_output_loss: 0.0076 - articleType_output_loss: 0.1812 - season_output_loss: 0.6512 - usage_output_loss: 0.3187 - gender_output_loss: 0.1850 - masterCategory_output_accuracy: 0.9983 - subCategory_output_accuracy: 0.9984 - articleType_output_accuracy: 0.9236 - season_output_accuracy: 0.7187 - usage_output_accuracy: 0.8725 - gender_output_accuracy: 0.8965 - val_loss: 1.4466 - val_masterCategory_output_loss: 0.0105 - val_subCategory_output_loss: 0.0109 - val_articleType_output_loss: 0.2054 - val_season_output_loss: 0.6933 - val_usage_output_loss: 0.3365 - val_gender_output_loss: 0.1900 - val_masterCategory_output_accuracy: 0.9976 - val_subCategory_output_accuracy: 0.9976 - val_articleType_output_accuracy: 0.9122 - val_season_output_accuracy: 0.7056 - val_usage_output_accuracy: 0.8677 - val_gender_output_accuracy: 0.8920\n",
      "Epoch 7/10\n",
      "422/422 [==============================] - 29s 70ms/step - loss: 1.2488 - masterCategory_output_loss: 0.0056 - subCategory_output_loss: 0.0059 - articleType_output_loss: 0.1760 - season_output_loss: 0.6103 - usage_output_loss: 0.2751 - gender_output_loss: 0.1759 - masterCategory_output_accuracy: 0.9987 - subCategory_output_accuracy: 0.9991 - articleType_output_accuracy: 0.9268 - season_output_accuracy: 0.7341 - usage_output_accuracy: 0.8952 - gender_output_accuracy: 0.9001 - val_loss: 1.4291 - val_masterCategory_output_loss: 0.0105 - val_subCategory_output_loss: 0.0108 - val_articleType_output_loss: 0.1989 - val_season_output_loss: 0.6903 - val_usage_output_loss: 0.3291 - val_gender_output_loss: 0.1896 - val_masterCategory_output_accuracy: 0.9973 - val_subCategory_output_accuracy: 0.9979 - val_articleType_output_accuracy: 0.9119 - val_season_output_accuracy: 0.7036 - val_usage_output_accuracy: 0.8718 - val_gender_output_accuracy: 0.8911\n",
      "Epoch 8/10\n",
      "422/422 [==============================] - 29s 70ms/step - loss: 1.1784 - masterCategory_output_loss: 0.0047 - subCategory_output_loss: 0.0058 - articleType_output_loss: 0.1601 - season_output_loss: 0.5761 - usage_output_loss: 0.2648 - gender_output_loss: 0.1668 - masterCategory_output_accuracy: 0.9988 - subCategory_output_accuracy: 0.9984 - articleType_output_accuracy: 0.9332 - season_output_accuracy: 0.7593 - usage_output_accuracy: 0.8970 - gender_output_accuracy: 0.9028 - val_loss: 1.4117 - val_masterCategory_output_loss: 0.0100 - val_subCategory_output_loss: 0.0105 - val_articleType_output_loss: 0.1962 - val_season_output_loss: 0.6856 - val_usage_output_loss: 0.3313 - val_gender_output_loss: 0.1780 - val_masterCategory_output_accuracy: 0.9982 - val_subCategory_output_accuracy: 0.9976 - val_articleType_output_accuracy: 0.9134 - val_season_output_accuracy: 0.7107 - val_usage_output_accuracy: 0.8733 - val_gender_output_accuracy: 0.8997\n",
      "Epoch 9/10\n",
      "422/422 [==============================] - 30s 70ms/step - loss: 1.1371 - masterCategory_output_loss: 0.0040 - subCategory_output_loss: 0.0041 - articleType_output_loss: 0.1475 - season_output_loss: 0.5633 - usage_output_loss: 0.2620 - gender_output_loss: 0.1563 - masterCategory_output_accuracy: 0.9990 - subCategory_output_accuracy: 0.9997 - articleType_output_accuracy: 0.9366 - season_output_accuracy: 0.7627 - usage_output_accuracy: 0.8997 - gender_output_accuracy: 0.9086 - val_loss: 1.4034 - val_masterCategory_output_loss: 0.0099 - val_subCategory_output_loss: 0.0105 - val_articleType_output_loss: 0.1939 - val_season_output_loss: 0.6827 - val_usage_output_loss: 0.3320 - val_gender_output_loss: 0.1743 - val_masterCategory_output_accuracy: 0.9979 - val_subCategory_output_accuracy: 0.9979 - val_articleType_output_accuracy: 0.9160 - val_season_output_accuracy: 0.7148 - val_usage_output_accuracy: 0.8709 - val_gender_output_accuracy: 0.9006loss: 0.0042 - subCategory_output_loss: 0.0041 - articleType_output_loss: 0.1494 - season_output_loss: 0.5639 - usage_output_loss: 0.2659 - gender_output_loss: 0.1589 - masterCategory_output_accuracy: 0.9988 - subCategory_output_accuracy: 0.9997 - articleType_o - ETA: 1s - loss: 1.1384 - masterCategory_output_loss: 0.0039 - subCategory_output_loss: 0.0040 - articleType_output_loss: 0.1478 - season_output_loss: 0.5634 - usage_output_loss: 0.2626 - gender_output_loss: 0.1566 - masterCategory_output_accuracy: 0.9989 - subCategory_output_accuracy: 0.9997 - articleType_output_accuracy: 0.9364 - season_output_accuracy: 0.7625 - usage_output_accuracy: 0.8995 - g\n",
      "Epoch 10/10\n",
      "422/422 [==============================] - 29s 70ms/step - loss: 1.0489 - masterCategory_output_loss: 0.0034 - subCategory_output_loss: 0.0036 - articleType_output_loss: 0.1297 - season_output_loss: 0.5334 - usage_output_loss: 0.2354 - gender_output_loss: 0.1434 - masterCategory_output_accuracy: 0.9991 - subCategory_output_accuracy: 0.9996 - articleType_output_accuracy: 0.9515 - season_output_accuracy: 0.7781 - usage_output_accuracy: 0.9102 - gender_output_accuracy: 0.9194 - val_loss: 1.4161 - val_masterCategory_output_loss: 0.0097 - val_subCategory_output_loss: 0.0107 - val_articleType_output_loss: 0.1951 - val_season_output_loss: 0.6809 - val_usage_output_loss: 0.3433 - val_gender_output_loss: 0.1764 - val_masterCategory_output_accuracy: 0.9982 - val_subCategory_output_accuracy: 0.9976 - val_articleType_output_accuracy: 0.9148 - val_season_output_accuracy: 0.7160 - val_usage_output_accuracy: 0.8703 - val_gender_output_accuracy: 0.9003\n"
     ]
    }
   ],
   "source": [
    "H = model.fit(trainX,\n",
    "    {\"masterCategory_output\": trainMasterCategoryY,\n",
    "    \"subCategory_output\": trainSubCategoryY,\n",
    "    \"articleType_output\": trainArticleTypeY,\n",
    "    \"season_output\": trainSeasonY,\n",
    "    \"usage_output\": trainUsageY,\n",
    "     \"gender_output\": trainGenderY},\n",
    "    validation_data=(testX, \n",
    "    {\"masterCategory_output\": testMasterCategoryY,\n",
    "    \"subCategory_output\": testSubCategoryY,\n",
    "    \"articleType_output\": testArticleTypeY,\n",
    "    \"season_output\": testSeasonY,\n",
    "    \"usage_output\": testUsageY,\n",
    "     \"gender_output\": testGenderY}),\n",
    "    epochs=10,\n",
    "    batch_size=BS,\n",
    "    verbose=1)\n"
   ]
  },
  {
   "cell_type": "code",
   "execution_count": 61,
   "metadata": {},
   "outputs": [
    {
     "data": {
      "text/plain": [
       "<AxesSubplot:>"
      ]
     },
     "execution_count": 61,
     "metadata": {},
     "output_type": "execute_result"
    },
    {
     "data": {
      "image/png": "[encoded data removed]",
      "text/plain": [
       "<Figure size 432x288 with 1 Axes>"
      ]
     },
     "metadata": {
      "needs_background": "light"
     },
     "output_type": "display_data"
    },
    {
     "data": {
      "image/png": "[encoded data removed]",
      "text/plain": [
       "<Figure size 432x288 with 1 Axes>"
      ]
     },
     "metadata": {
      "needs_background": "light"
     },
     "output_type": "display_data"
    },
    {
     "data": {
      "image/png": "[encoded data removed]",
      "text/plain": [
       "<Figure size 432x288 with 1 Axes>"
      ]
     },
     "metadata": {
      "needs_background": "light"
     },
     "output_type": "display_data"
    },
    {
     "data": {
      "image/png": "[encoded data removed]",
      "text/plain": [
       "<Figure size 432x288 with 1 Axes>"
      ]
     },
     "metadata": {
      "needs_background": "light"
     },
     "output_type": "display_data"
    }
   ],
   "source": [
    "h_df = pd.DataFrame(H.history)\n",
    "h_df.loc[:,[col for col in h_df.columns if 'accuracy' in col and 'val' not in col]].plot()\n",
    "h_df.loc[:,[col for col in h_df.columns if 'accuracy' in col and 'val' in col]].plot()\n",
    "h_df.loc[:,[col for col in h_df.columns if 'loss' in col and 'val' not in col]].plot()\n",
    "h_df.loc[:,[col for col in h_df.columns if 'loss' in col and 'val' in col]].plot()"
   ]
  },
  {
   "cell_type": "code",
   "execution_count": null,
   "metadata": {},
   "outputs": [],
   "source": [
    "res = model.evaluate(testX, \n",
    "    {\"masterCategory_output\": testMasterCategoryY,\n",
    "    \"subCategory_output\": testSubCategoryY,\n",
    "    \"articleType_output\": testArticleTypeY,\n",
    "    \"season_output\": testSeasonY,\n",
    "    \"usage_output\": testUsageY}, batch_size=32, verbose=0)\n",
    "print('loss', res[:6])\n",
    "print('acc', list(map(lambda x: round(x*100,2), res[6:])))"
   ]
  },
  {
   "cell_type": "code",
   "execution_count": null,
   "metadata": {},
   "outputs": [],
   "source": [
    "model = tf.keras.models.load_model(\"../input/model-mul-v2/mulOut_v2.h5\")"
   ]
  },
  {
   "cell_type": "code",
   "execution_count": 63,
   "metadata": {},
   "outputs": [
    {
     "name": "stderr",
     "output_type": "stream",
     "text": [
      "Clipping input data to the valid range for imshow with RGB data ([0..1] for floats or [0..255] for integers).\n"
     ]
    },
    {
     "name": "stdout",
     "output_type": "stream",
     "text": [
      "Master Category: Footwear (100.00%) ----- Footwear\n",
      "Sub Category: Shoes (100.00%) ----- Shoes\n",
      "Article Type: Sports Shoes (55.74%) ----- Sports Shoes\n",
      "Season: Summer (58.20%) ----- Summer\n",
      "Usage: Sports (57.40%) ----- Sports\n",
      "Gender: Men (100.00%) ----- Men\n"
     ]
    },
    {
     "data": {
      "image/png": "[encoded data removed]",
      "text/plain": [
       "<Figure size 432x288 with 1 Axes>"
      ]
     },
     "metadata": {
      "needs_background": "light"
     },
     "output_type": "display_data"
    },
    {
     "name": "stderr",
     "output_type": "stream",
     "text": [
      "Clipping input data to the valid range for imshow with RGB data ([0..1] for floats or [0..255] for integers).\n"
     ]
    },
    {
     "name": "stdout",
     "output_type": "stream",
     "text": [
      "\n",
      "\n",
      "\n",
      "\n",
      "Master Category: Footwear (100.00%) ----- Footwear\n",
      "Sub Category: Shoes (100.00%) ----- Shoes\n",
      "Article Type: Casual Shoes (95.65%) ----- Casual Shoes\n",
      "Season: Summer (85.75%) ----- Fall\n",
      "Usage: Casual (92.21%) ----- Casual\n",
      "Gender: Men (98.72%) ----- Men\n"
     ]
    },
    {
     "data": {
      "image/png": "[encoded data removed]",
      "text/plain": [
       "<Figure size 432x288 with 1 Axes>"
      ]
     },
     "metadata": {
      "needs_background": "light"
     },
     "output_type": "display_data"
    },
    {
     "name": "stdout",
     "output_type": "stream",
     "text": [
      "\n",
      "\n",
      "\n",
      "\n",
      "Master Category: Apparel (99.99%) ----- Apparel\n",
      "Sub Category: Topwear (99.96%) ----- Topwear\n",
      "Article Type: Tshirts (99.59%) ----- Tshirts\n"
     ]
    },
    {
     "name": "stderr",
     "output_type": "stream",
     "text": [
      "Clipping input data to the valid range for imshow with RGB data ([0..1] for floats or [0..255] for integers).\n"
     ]
    },
    {
     "name": "stdout",
     "output_type": "stream",
     "text": [
      "Season: Fall (50.16%) ----- Fall\n",
      "Usage: Casual (96.50%) ----- Casual\n",
      "Gender: Men (94.60%) ----- Men\n"
     ]
    },
    {
     "data": {
      "image/png": "[encoded data removed]",
      "text/plain": [
       "<Figure size 432x288 with 1 Axes>"
      ]
     },
     "metadata": {
      "needs_background": "light"
     },
     "output_type": "display_data"
    },
    {
     "name": "stdout",
     "output_type": "stream",
     "text": [
      "\n",
      "\n",
      "\n",
      "\n",
      "Master Category: Footwear (100.00%) ----- Footwear\n",
      "Sub Category: Shoes (100.00%) ----- Shoes\n"
     ]
    },
    {
     "name": "stderr",
     "output_type": "stream",
     "text": [
      "Clipping input data to the valid range for imshow with RGB data ([0..1] for floats or [0..255] for integers).\n"
     ]
    },
    {
     "name": "stdout",
     "output_type": "stream",
     "text": [
      "Article Type: Casual Shoes (81.27%) ----- Sports Shoes\n",
      "Season: Summer (79.19%) ----- Summer\n",
      "Usage: Casual (66.86%) ----- Sports\n",
      "Gender: Men (70.60%) ----- Women\n"
     ]
    },
    {
     "data": {
      "image/png": "[encoded data removed]",
      "text/plain": [
       "<Figure size 432x288 with 1 Axes>"
      ]
     },
     "metadata": {
      "needs_background": "light"
     },
     "output_type": "display_data"
    },
    {
     "name": "stdout",
     "output_type": "stream",
     "text": [
      "\n",
      "\n",
      "\n",
      "\n"
     ]
    },
    {
     "name": "stderr",
     "output_type": "stream",
     "text": [
      "Clipping input data to the valid range for imshow with RGB data ([0..1] for floats or [0..255] for integers).\n"
     ]
    },
    {
     "name": "stdout",
     "output_type": "stream",
     "text": [
      "Master Category: Apparel (100.00%) ----- Apparel\n",
      "Sub Category: Topwear (100.00%) ----- Topwear\n",
      "Article Type: Shirts (99.68%) ----- Shirts\n",
      "Season: Fall (82.40%) ----- Fall\n",
      "Usage: Formal (70.76%) ----- Casual\n",
      "Gender: Men (100.00%) ----- Men\n"
     ]
    },
    {
     "data": {
      "image/png": "[encoded data removed]",
      "text/plain": [
       "<Figure size 432x288 with 1 Axes>"
      ]
     },
     "metadata": {
      "needs_background": "light"
     },
     "output_type": "display_data"
    },
    {
     "name": "stdout",
     "output_type": "stream",
     "text": [
      "\n",
      "\n",
      "\n",
      "\n"
     ]
    }
   ],
   "source": [
    "for idx in range(1,6):\n",
    "\n",
    "    (masterCategoryProba, subCategoryProba, articleTypeProba, seasonProba, usageProba, genderProba) = model.predict(np.expand_dims(testX[idx], axis=0))\n",
    "\n",
    "    masterCategoryIdx = masterCategoryProba[0].argmax()\n",
    "    subCategoryIdx = subCategoryProba[0].argmax()\n",
    "    articleTypeIdx = articleTypeProba[0].argmax()\n",
    "    seasonIdx = seasonProba[0].argmax()\n",
    "    usageIdx = usageProba[0].argmax()\n",
    "    genderIdx = genderProba[0].argmax()\n",
    "    masterCategoryLabel = masterCategoryLB.classes_[masterCategoryIdx]\n",
    "    subCategoryLabel = subCategoryLB.classes_[subCategoryIdx]\n",
    "    articleTypeLabel = articleTypeLB.classes_[articleTypeIdx]\n",
    "    seasonLabel = seasonLB.classes_[seasonIdx]\n",
    "    usageLabel = usageLB.classes_[usageIdx]\n",
    "    genderLabel = genderLB.classes_[genderIdx]\n",
    "\n",
    "    masterCategoryText = \"Master Category: {} ({:.2f}%)\".format(masterCategoryLabel, masterCategoryProba[0][masterCategoryIdx] * 100)\n",
    "    subCategoryText = \"Sub Category: {} ({:.2f}%)\".format(subCategoryLabel, subCategoryProba[0][subCategoryIdx] * 100)\n",
    "    articleTypeText = \"Article Type: {} ({:.2f}%)\".format(articleTypeLabel, articleTypeProba[0][articleTypeIdx] * 100)\n",
    "    seasonText = \"Season: {} ({:.2f}%)\".format(seasonLabel, seasonProba[0][seasonIdx] * 100)\n",
    "    usageText = \"Usage: {} ({:.2f}%)\".format(usageLabel, usageProba[0][usageIdx] * 100)\n",
    "    genderText = \"Gender: {} ({:.2f}%)\".format(genderLabel, genderProba[0][genderIdx] * 100)\n",
    "\n",
    "    print(masterCategoryText, '-----', masterCategoryLB.classes_[testMasterCategoryY[idx].argmax()])\n",
    "    print(subCategoryText, '-----',subCategoryLB.classes_[testSubCategoryY[idx].argmax()])\n",
    "    print(articleTypeText, '-----',articleTypeLB.classes_[testArticleTypeY[idx].argmax()])\n",
    "    print(seasonText, '-----',seasonLB.classes_[testSeasonY[idx].argmax()])\n",
    "    print(usageText, '-----',usageLB.classes_[testUsageY[idx].argmax()])\n",
    "    print(genderText, '-----',genderLB.classes_[testGenderY[idx].argmax()])\n",
    "\n",
    "    plt.imshow(testX[idx])\n",
    "    plt.show()\n",
    "    \n",
    "    print(\"\\n\\n\\n\")"
   ]
  },
  {
   "cell_type": "code",
   "execution_count": 64,
   "metadata": {},
   "outputs": [],
   "source": [
    "(masterCategoryProba, subCategoryProba, articleTypeProba, seasonProba, usageProba, genderProba) = model.predict(testX)"
   ]
  },
  {
   "cell_type": "code",
   "execution_count": 65,
   "metadata": {},
   "outputs": [],
   "source": [
    "masterCategoryIntegers = np.argmax(masterCategoryProba,axis=-1)\n",
    "subCategoryIntegers = np.argmax(subCategoryProba,axis=-1)\n",
    "articleTypeIntegers = np.argmax(articleTypeProba,axis=-1)\n",
    "seasonIntegers = np.argmax(seasonProba,axis=-1)\n",
    "usageIntegers = np.argmax(usageProba,axis=-1)\n",
    "genderIntegers = np.argmax(genderProba,axis=-1)"
   ]
  },
  {
   "cell_type": "code",
   "execution_count": 66,
   "metadata": {},
   "outputs": [],
   "source": [
    "masterCategoryActual = np.argmax(testMasterCategoryY,axis=-1)\n",
    "subCategoryActual = np.argmax(testSubCategoryY,axis=-1)\n",
    "articleTypeActual = np.argmax(testArticleTypeY,axis=-1)\n",
    "seasonActual = np.argmax(testSeasonY,axis=-1)\n",
    "usageActual = np.argmax(testUsageY,axis=-1)\n",
    "genderActual = np.argmax(testGenderY,axis=-1)"
   ]
  },
  {
   "cell_type": "code",
   "execution_count": 67,
   "metadata": {},
   "outputs": [
    {
     "data": {
      "image/png": "[encoded data removed]",
      "text/plain": [
       "<Figure size 432x288 with 2 Axes>"
      ]
     },
     "metadata": {
      "needs_background": "light"
     },
     "output_type": "display_data"
    }
   ],
   "source": [
    "from sklearn.metrics import confusion_matrix,precision_score\n",
    "masterCategoryCM = confusion_matrix(masterCategoryActual,masterCategoryIntegers)\n",
    "masterCategoryCM_df = pd.DataFrame(masterCategoryCM)\n",
    "masterCategoryCM_df.columns = masterCategoryLB.classes_\n",
    "masterCategoryCM_df.index = masterCategoryLB.classes_\n",
    "sns.heatmap(masterCategoryCM_df,annot=True,fmt=\"d\")\n",
    "plt.show()\n"
   ]
  },
  {
   "cell_type": "code",
   "execution_count": 68,
   "metadata": {},
   "outputs": [
    {
     "data": {
      "text/plain": [
       "<AxesSubplot:>"
      ]
     },
     "execution_count": 68,
     "metadata": {},
     "output_type": "execute_result"
    },
    {
     "data": {
      "image/png": "[encoded data removed]",
      "text/plain": [
       "<Figure size 432x288 with 2 Axes>"
      ]
     },
     "metadata": {
      "needs_background": "light"
     },
     "output_type": "display_data"
    }
   ],
   "source": [
    "subCategoryCM = confusion_matrix(subCategoryActual,subCategoryIntegers)\n",
    "subCategoryCM_df = pd.DataFrame(subCategoryCM)\n",
    "subCategoryCM_df.columns = subCategoryLB.classes_\n",
    "subCategoryCM_df.index = subCategoryLB.classes_\n",
    "sns.heatmap(subCategoryCM_df,annot=True,fmt=\"d\")"
   ]
  },
  {
   "cell_type": "code",
   "execution_count": 69,
   "metadata": {},
   "outputs": [
    {
     "data": {
      "text/plain": [
       "<AxesSubplot:>"
      ]
     },
     "execution_count": 69,
     "metadata": {},
     "output_type": "execute_result"
    },
    {
     "data": {
      "image/png": "[encoded data removed]",
      "text/plain": [
       "<Figure size 432x288 with 2 Axes>"
      ]
     },
     "metadata": {
      "needs_background": "light"
     },
     "output_type": "display_data"
    }
   ],
   "source": [
    "articleTypeCM = confusion_matrix(articleTypeActual,articleTypeIntegers)\n",
    "articleTypeCM_df = pd.DataFrame(articleTypeCM)\n",
    "articleTypeCM_df.columns = articleTypeLB.classes_\n",
    "articleTypeCM_df.index = articleTypeLB.classes_\n",
    "sns.heatmap(articleTypeCM_df,annot=True,fmt=\"d\",cmap=\"Greens\")"
   ]
  },
  {
   "cell_type": "code",
   "execution_count": 70,
   "metadata": {},
   "outputs": [
    {
     "data": {
      "text/plain": [
       "<AxesSubplot:>"
      ]
     },
     "execution_count": 70,
     "metadata": {},
     "output_type": "execute_result"
    },
    {
     "data": {
      "image/png": "[encoded data removed]",
      "text/plain": [
       "<Figure size 432x288 with 2 Axes>"
      ]
     },
     "metadata": {
      "needs_background": "light"
     },
     "output_type": "display_data"
    }
   ],
   "source": [
    "seasonCM = confusion_matrix(seasonActual,seasonIntegers)\n",
    "seasonCM_df = pd.DataFrame(seasonCM)\n",
    "seasonCM_df.columns = seasonLB.classes_\n",
    "seasonCM_df.index = seasonLB.classes_\n",
    "sns.heatmap(seasonCM_df,annot=True,fmt=\"d\",cmap=\"Greens\")"
   ]
  },
  {
   "cell_type": "code",
   "execution_count": 71,
   "metadata": {},
   "outputs": [
    {
     "data": {
      "text/plain": [
       "<AxesSubplot:>"
      ]
     },
     "execution_count": 71,
     "metadata": {},
     "output_type": "execute_result"
    },
    {
     "data": {
      "image/png": "[encoded data removed]",
      "text/plain": [
       "<Figure size 432x288 with 2 Axes>"
      ]
     },
     "metadata": {
      "needs_background": "light"
     },
     "output_type": "display_data"
    }
   ],
   "source": [
    "usageCM = confusion_matrix(usageActual,usageIntegers)\n",
    "usageCM_df = pd.DataFrame(usageCM)\n",
    "usageCM_df.columns = usageLB.classes_\n",
    "usageCM_df.index = usageLB.classes_\n",
    "sns.heatmap(usageCM_df,annot=True,fmt=\"d\",cmap=\"Greens\")"
   ]
  },
  {
   "cell_type": "code",
   "execution_count": 72,
   "metadata": {},
   "outputs": [
    {
     "data": {
      "text/plain": [
       "<AxesSubplot:>"
      ]
     },
     "execution_count": 72,
     "metadata": {},
     "output_type": "execute_result"
    },
    {
     "data": {
      "image/png": "[encoded data removed]",
      "text/plain": [
       "<Figure size 432x288 with 2 Axes>"
      ]
     },
     "metadata": {
      "needs_background": "light"
     },
     "output_type": "display_data"
    }
   ],
   "source": [
    "genderCM = confusion_matrix(genderActual,genderIntegers)\n",
    "genderCM_df = pd.DataFrame(genderCM)\n",
    "genderCM_df.columns = genderLB.classes_\n",
    "genderCM_df.index = genderLB.classes_\n",
    "sns.heatmap(genderCM_df,annot=True,fmt=\"d\",cmap=\"Greens\")"
   ]
  },
  {
   "cell_type": "code",
   "execution_count": 73,
   "metadata": {},
   "outputs": [],
   "source": [
    "model.save('../models/mulOut_v3.h5')"
   ]
  },
  {
   "cell_type": "code",
   "execution_count": null,
   "metadata": {},
   "outputs": [],
   "source": [
    "plot_model()"
   ]
  },
  {
   "cell_type": "code",
   "execution_count": null,
   "metadata": {},
   "outputs": [],
   "source": [
    "plot_model(model)"
   ]
  },
  {
   "cell_type": "code",
   "execution_count": null,
   "metadata": {},
   "outputs": [],
   "source": []
  },
  {
   "cell_type": "markdown",
   "metadata": {},
   "source": []
  }
 ],
 "metadata": {
  "kernelspec": {
   "display_name": "Python 3",
   "language": "python",
   "name": "python3"
  },
  "language_info": {
   "codemirror_mode": {
    "name": "ipython",
    "version": 3
   },
   "file_extension": ".py",
   "mimetype": "text/x-python",
   "name": "python",
   "nbconvert_exporter": "python",
   "pygments_lexer": "ipython3",
   "version": "3.7.10"
  }
 },
 "nbformat": 4,
 "nbformat_minor": 4
}
