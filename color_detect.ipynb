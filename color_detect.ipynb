{
 "cells": [
  {
   "cell_type": "markdown",
   "id": "359dbb32",
   "metadata": {},
   "source": [
    "# Import Libraries"
   ]
  },
  {
   "cell_type": "code",
   "execution_count": 1,
   "id": "765e6d3b",
   "metadata": {},
   "outputs": [],
   "source": [
    "from sklearn.cluster import KMeans\n",
    "import matplotlib.pyplot as plt\n",
    "import argparse\n",
    "import cv2\n",
    "import numpy as np"
   ]
  },
  {
   "cell_type": "markdown",
   "id": "848597db",
   "metadata": {},
   "source": [
    "# Functions"
   ]
  },
  {
   "cell_type": "code",
   "execution_count": 2,
   "id": "c7ace0c6",
   "metadata": {},
   "outputs": [],
   "source": [
    "\n",
    "\n",
    "def load_and_show_img(path):\n",
    "    image = cv2.imread(path)\n",
    "    image = cv2.cvtColor(image, cv2.COLOR_BGR2RGB)\n",
    "    # show our image\n",
    "    plt.figure()\n",
    "    plt.axis(\"off\")\n",
    "    plt.imshow(image)\n",
    "    return image\n",
    "    \n",
    "def reshap_img(image):\n",
    "    image = image.reshape((image.shape[0] * image.shape[1], 3))\n",
    "    return image\n",
    "\n",
    "def find_clusters(image,clusters=3):\n",
    "    clt = KMeans(n_clusters = clusters)\n",
    "    clt.fit(image)\n",
    "    return clt\n",
    "    \n",
    "def centroid_histogram(clt):\n",
    "    \n",
    "    numLabels = np.arange(0, len(np.unique(clt.labels_)) + 1)\n",
    "    (hist, _) = np.histogram(clt.labels_, bins = numLabels)\n",
    "    hist = hist.astype(\"float\")\n",
    "    hist /= hist.sum()\n",
    "    return hist\n",
    "\n",
    "def plot_colors(hist, centroids):\n",
    "    # initialize the bar chart representing the relative frequency\n",
    "    # of each of the colors\n",
    "    bar = np.zeros((50, 300, 3), dtype = \"uint8\")\n",
    "    startX = 0\n",
    "    # loop over the percentage of each cluster and the color of\n",
    "    # each cluster\n",
    "    colors_data = []\n",
    "    for (percent, color) in zip(hist, centroids):\n",
    "        # plot the relative percentage of each cluster\n",
    "        endX = startX + (percent * 300)\n",
    "        cv2.rectangle(bar, (int(startX), 0), (int(endX), 50),\n",
    "            color.astype(\"uint8\").tolist(), -1)\n",
    "        startX = endX\n",
    "        colors_data.append((percent,color))\n",
    "    # return the bar chart\n",
    "    return bar,colors_data\n",
    "\n",
    "def plot_color_hist(clt):\n",
    "    hist = centroid_histogram(clt)\n",
    "    bar,colors_data = plot_colors(hist, clt.cluster_centers_)\n",
    "    # show our color bart\n",
    "    plt.figure()\n",
    "    plt.axis(\"off\")\n",
    "    plt.imshow(bar)\n",
    "    plt.show()\n",
    "    return colors_data\n",
    "    \n",
    "def get_colors(path,clusters=2):\n",
    "    image = load_and_show_img(path)\n",
    "    image = reshap_img(image)\n",
    "    clt = find_clusters(image,clusters=clusters)\n",
    "    colors_data = plot_color_hist(clt)\n",
    "    return colors_data\n",
    "    \n",
    "def get_rgb_list(df):\n",
    "    rgb_list = []\n",
    "    for i in range(len(df)):\n",
    "        rgb_list.append(df.iloc[i][['R','G','B']].values)\n",
    "    df['rgb'] = rgb_list\n",
    "    return df\n",
    "    \n",
    "def get_colors_csv():\n",
    "    path = \"https://raw.githubusercontent.com/balajisrinivas/Color-Detection-OpenCV/main/colors.csv\"\n",
    "    index = [\"color\", \"color_name\", \"hex\", \"R\", \"G\", \"B\"]\n",
    "    import pandas as pd\n",
    "    df = pd.read_csv(path,names=index,header=None)    \n",
    "    \n",
    "    return df\n",
    "\n",
    "def save_colors_csv():\n",
    "    df = get_colors_csv()\n",
    "    df.to_csv(\"../Dataset/archive/colors.csv\")\n",
    "    \n",
    "def read_colors_csv(path=\"../Dataset/archive/colors.csv\"):\n",
    "    import pandas as pd\n",
    "    df = pd.read_csv(path)\n",
    "    df = df.iloc[:,1:]\n",
    "    df = get_rgb_list(df)\n",
    "    return df\n",
    "\n",
    "    \n",
    "def get_color_diffs(df,prod_color):\n",
    "    diffs = []\n",
    "    for i,rgb in enumerate(df['rgb']):\n",
    "        d = np.sum(np.abs(prod_color-rgb))\n",
    "        diffs.append((d,i))\n",
    "    diffs.sort(key=lambda x: x[0],reverse=False)\n",
    "    return diffs[0]\n",
    "\n",
    "def predict_color(df,colors_data,num_cols=3):\n",
    "    import numpy as np\n",
    "    colors_data = remove_white(colors_data)\n",
    "    for p,prod_color in colors_data[:num_cols]:\n",
    "        color_data = get_color_diffs(df,prod_color)\n",
    "        \n",
    "        rgb,idx = color_data\n",
    "\n",
    "        print(\"Color Name: {}\".format(df.iloc[idx]['color']))\n",
    "        print(df.iloc[idx]['rgb'])\n",
    "        bar = np.zeros((50, 300, 3), dtype = \"uint8\")\n",
    "        cv2.rectangle(bar, (0, 0), (300, 50),\n",
    "                    df.iloc[idx]['rgb'].astype(\"uint8\").tolist(), -1)\n",
    "        plt.imshow(bar)\n",
    "        plt.show()\n",
    "    \n",
    "def remove_white(colors_data):\n",
    "    minIdx = 3\n",
    "    m = 255*3\n",
    "    white = [255.0,255.0,255.0]\n",
    "    for i,(percent,color) in enumerate(colors_data):\n",
    "        d = np.sum(np.abs(color-white))\n",
    "        if d<m:\n",
    "            m = d\n",
    "            minIdx = i\n",
    "    del colors_data[minIdx]\n",
    "    colors_data.sort(key=lambda x: x[0],reverse=True)\n",
    "    return colors_data"
   ]
  },
  {
   "cell_type": "markdown",
   "id": "64e4092e",
   "metadata": {},
   "source": [
    "# Test"
   ]
  },
  {
   "cell_type": "code",
   "execution_count": 3,
   "id": "107c6f7c",
   "metadata": {},
   "outputs": [],
   "source": [
    "df = read_colors_csv()"
   ]
  },
  {
   "cell_type": "code",
   "execution_count": 15,
   "id": "806bd70a",
   "metadata": {},
   "outputs": [
    {
     "data": {
      "image/png": "[encoded data removed]",
      "text/plain": [
       "<Figure size 432x288 with 1 Axes>"
      ]
     },
     "metadata": {
      "needs_background": "light"
     },
     "output_type": "display_data"
    },
    {
     "data": {
      "image/png": "[encoded data removed]",
      "text/plain": [
       "<Figure size 432x288 with 1 Axes>"
      ]
     },
     "metadata": {
      "needs_background": "light"
     },
     "output_type": "display_data"
    },
    {
     "name": "stdout",
     "output_type": "stream",
     "text": [
      "[(0.7922916666666666, array([254.63081778, 254.68077833, 254.65422035])), (0.120625, array([67.92227979, 68.33160622, 69.11744387])), (0.04895833333333333, array([108.12765957, 144.84255319, 177.43404255])), (0.038125, array([200.8579235 , 206.73224044, 212.69398907]))]\n"
     ]
    }
   ],
   "source": [
    "path = \"../Dataset/archive/images/9198.jpg\"\n",
    "colors_data = get_colors(path,clusters=4)\n",
    "print(colors_data)"
   ]
  },
  {
   "cell_type": "code",
   "execution_count": 16,
   "id": "e764600f",
   "metadata": {},
   "outputs": [
    {
     "name": "stdout",
     "output_type": "stream",
     "text": [
      "Color Name: arsenic\n",
      "[59 68 75]\n"
     ]
    },
    {
     "data": {
      "image/png": "[encoded data removed]",
      "text/plain": [
       "<Figure size 432x288 with 1 Axes>"
      ]
     },
     "metadata": {
      "needs_background": "light"
     },
     "output_type": "display_data"
    },
    {
     "name": "stdout",
     "output_type": "stream",
     "text": [
      "Color Name: cerulean_frost\n",
      "[109 155 195]\n"
     ]
    },
    {
     "data": {
      "image/png": "[encoded data removed]",
      "text/plain": [
       "<Figure size 432x288 with 1 Axes>"
      ]
     },
     "metadata": {
      "needs_background": "light"
     },
     "output_type": "display_data"
    },
    {
     "name": "stdout",
     "output_type": "stream",
     "text": [
      "Color Name: light_gray\n",
      "[211 211 211]\n"
     ]
    },
    {
     "data": {
      "image/png": "[encoded data removed]",
      "text/plain": [
       "<Figure size 432x288 with 1 Axes>"
      ]
     },
     "metadata": {
      "needs_background": "light"
     },
     "output_type": "display_data"
    }
   ],
   "source": [
    "predict_color(df,colors_data.copy())"
   ]
  }
 ],
 "metadata": {
  "kernelspec": {
   "display_name": "Python 3",
   "language": "python",
   "name": "python3"
  },
  "language_info": {
   "codemirror_mode": {
    "name": "ipython",
    "version": 3
   },
   "file_extension": ".py",
   "mimetype": "text/x-python",
   "name": "python",
   "nbconvert_exporter": "python",
   "pygments_lexer": "ipython3",
   "version": "3.7.10"
  }
 },
 "nbformat": 4,
 "nbformat_minor": 5
}
